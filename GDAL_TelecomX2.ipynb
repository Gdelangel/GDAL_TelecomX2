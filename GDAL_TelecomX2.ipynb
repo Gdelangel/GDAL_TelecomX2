{
  "nbformat": 4,
  "nbformat_minor": 0,
  "metadata": {
    "colab": {
      "provenance": [],
      "collapsed_sections": [
        "MlM2j6QtkGkX",
        "_3HTAGi2mtGt",
        "-s3DfbdKmwrO",
        "xACIQkHUnwiJ",
        "QPsoTXA0qJeO",
        "jNVRt5kotoxv",
        "UufLXItNton0"
      ]
    },
    "kernelspec": {
      "name": "python3",
      "display_name": "Python 3"
    },
    "language_info": {
      "name": "python"
    }
  },
  "cells": [
    {
      "cell_type": "markdown",
      "source": [
        "#TELECOM X _ SEGUNDA PARTE"
      ],
      "metadata": {
        "id": "DX3fAsm0jD-c"
      }
    },
    {
      "cell_type": "markdown",
      "source": [
        "🧠 Objetivos del Desafío\n",
        "\n",
        "*   Preparar los datos para el modelado (tratamiento, codificación, normalización).\n",
        "*   Realizar análisis de correlación y selección de variables.\n",
        "*   Entrenar dos o más modelos de clasificación.\n",
        "*   Evaluar el rendimiento de los modelos con métricas.\n",
        "*   Interpretar los resultados, incluyendo la importancia de las variables.\n",
        "*   Crear una conclusión estratégica señalando los principales factores que influyen en la cancelación."
      ],
      "metadata": {
        "id": "R3v_OUujjVft"
      }
    },
    {
      "cell_type": "markdown",
      "source": [
        "#PAQUETERIAS"
      ],
      "metadata": {
        "id": "FwICtTtTj5Q4"
      }
    },
    {
      "cell_type": "code",
      "execution_count": 28,
      "metadata": {
        "id": "LXAQ06EPhOyW"
      },
      "outputs": [],
      "source": [
        "import pandas as pd\n",
        "import numpy as np\n",
        "import matplotlib.pyplot as plt\n",
        "import seaborn as sns\n",
        "\n",
        "from sklearn.metrics import accuracy_score, precision_score, recall_score, f1_score, confusion_matrix\n",
        "from sklearn.model_selection import train_test_split\n",
        "from imblearn.over_sampling import SMOTE\n",
        "\n",
        "from sklearn.ensemble import RandomForestClassifier\n",
        "from sklearn.tree import DecisionTreeClassifier\n",
        "from sklearn.dummy import DummyClassifier\n",
        "\n",
        "from sklearn.preprocessing import LabelEncoder\n",
        "from sklearn.model_selection import GridSearchCV, KFold\n",
        "from sklearn.metrics import classification_report\n",
        "from sklearn.metrics import ConfusionMatrixDisplay"
      ]
    },
    {
      "cell_type": "markdown",
      "source": [
        "#🛠️Preparación de los Datos"
      ],
      "metadata": {
        "id": "MlM2j6QtkGkX"
      }
    },
    {
      "cell_type": "markdown",
      "source": [
        "##Extraccion del archivo tratado"
      ],
      "metadata": {
        "id": "_3HTAGi2mtGt"
      }
    },
    {
      "cell_type": "code",
      "source": [
        "#datos='https://raw.githubusercontent.com/Gdelangel/GDAL_TelecomX/refs/heads/main/df_final_telecomX.csv'\n",
        "datos='https://raw.githubusercontent.com/Gdelangel/GDAL_TelecomX/refs/heads/main/df_final.csv'\n",
        "datos=pd.read_csv(datos)\n",
        "datos.head()\n",
        "datos.info()"
      ],
      "metadata": {
        "colab": {
          "base_uri": "https://localhost:8080/"
        },
        "id": "dY6tRzn6lTQu",
        "outputId": "fe7f7593-eab8-4b32-b79a-95467f93ef1c"
      },
      "execution_count": 29,
      "outputs": [
        {
          "output_type": "stream",
          "name": "stdout",
          "text": [
            "<class 'pandas.core.frame.DataFrame'>\n",
            "RangeIndex: 7267 entries, 0 to 7266\n",
            "Data columns (total 22 columns):\n",
            " #   Column            Non-Null Count  Dtype  \n",
            "---  ------            --------------  -----  \n",
            " 0   customerID        7267 non-null   object \n",
            " 1   Churn             7267 non-null   int64  \n",
            " 2   gender            7267 non-null   object \n",
            " 3   SeniorCitizen     7267 non-null   int64  \n",
            " 4   Partner           7267 non-null   int64  \n",
            " 5   Dependents        7267 non-null   int64  \n",
            " 6   tenure            7267 non-null   int64  \n",
            " 7   PhoneService      7267 non-null   int64  \n",
            " 8   MultipleLines     7267 non-null   int64  \n",
            " 9   InternetService   7267 non-null   object \n",
            " 10  OnlineSecurity    7267 non-null   int64  \n",
            " 11  OnlineBackup      7267 non-null   int64  \n",
            " 12  DeviceProtection  7267 non-null   int64  \n",
            " 13  TechSupport       7267 non-null   int64  \n",
            " 14  StreamingTV       7267 non-null   int64  \n",
            " 15  StreamingMovies   7267 non-null   int64  \n",
            " 16  Contract          7267 non-null   object \n",
            " 17  PaperlessBilling  7267 non-null   int64  \n",
            " 18  PaymentMethod     7267 non-null   object \n",
            " 19  Charges.Monthly   7267 non-null   float64\n",
            " 20  Charges.Total     7267 non-null   float64\n",
            " 21  Cuentas_Diarias   7267 non-null   float64\n",
            "dtypes: float64(3), int64(14), object(5)\n",
            "memory usage: 1.2+ MB\n"
          ]
        }
      ]
    },
    {
      "cell_type": "markdown",
      "source": [
        "##Eliminacion de columnas Irrelevantes"
      ],
      "metadata": {
        "id": "-s3DfbdKmwrO"
      }
    },
    {
      "cell_type": "code",
      "source": [
        "#Unica columna que no representa ningun valor para el modelado es ID\n",
        "datos=datos.drop(columns='customerID')\n",
        "datos.columns"
      ],
      "metadata": {
        "colab": {
          "base_uri": "https://localhost:8080/"
        },
        "id": "UCP_V236m45J",
        "outputId": "8e6eb454-36d6-44a6-fef2-bb117ce91eed"
      },
      "execution_count": 30,
      "outputs": [
        {
          "output_type": "execute_result",
          "data": {
            "text/plain": [
              "Index(['Churn', 'gender', 'SeniorCitizen', 'Partner', 'Dependents', 'tenure',\n",
              "       'PhoneService', 'MultipleLines', 'InternetService', 'OnlineSecurity',\n",
              "       'OnlineBackup', 'DeviceProtection', 'TechSupport', 'StreamingTV',\n",
              "       'StreamingMovies', 'Contract', 'PaperlessBilling', 'PaymentMethod',\n",
              "       'Charges.Monthly', 'Charges.Total', 'Cuentas_Diarias'],\n",
              "      dtype='object')"
            ]
          },
          "metadata": {},
          "execution_count": 30
        }
      ]
    },
    {
      "cell_type": "markdown",
      "source": [
        "##Verificación de la Proporción de Cancelación (Churn)"
      ],
      "metadata": {
        "id": "xACIQkHUnwiJ"
      }
    },
    {
      "cell_type": "code",
      "source": [
        "xIn=datos.drop(columns='Churn')\n",
        "yOut=datos['Churn']"
      ],
      "metadata": {
        "id": "uJ8qwp35q4iL"
      },
      "execution_count": 31,
      "outputs": []
    },
    {
      "cell_type": "code",
      "source": [
        "umbral = 0.70\n",
        "columnas_a_eliminar = []\n",
        "\n",
        "for columna in datos.columns:\n",
        "    if datos[columna].nunique() <= 2 or datos[columna].dtype == 'object':\n",
        "        frecuencia_max = datos[columna].value_counts(normalize=True).max()\n",
        "        if frecuencia_max > umbral:\n",
        "            columnas_a_eliminar.append(columna)\n",
        "            print(f\"Columna '{columna}' tiene {frecuencia_max*100:.2f}% en una categoría.\")\n",
        "if columnas_a_eliminar:\n",
        "    print(f\"\\nColumnas a eliminar por desbalance (>{umbral*100}% en una categoría):\")\n",
        "    print(columnas_a_eliminar)\n",
        "else:\n",
        "    print(f\"No se encontraron columnas con desbalance >{umbral*100}%.\")"
      ],
      "metadata": {
        "colab": {
          "base_uri": "https://localhost:8080/"
        },
        "id": "81GJ9p0unymP",
        "outputId": "015a1078-efda-435e-e87f-93fef7d5109d"
      },
      "execution_count": 32,
      "outputs": [
        {
          "output_type": "stream",
          "name": "stdout",
          "text": [
            "Columna 'Churn' tiene 74.28% en una categoría.\n",
            "Columna 'SeniorCitizen' tiene 83.73% en una categoría.\n",
            "Columna 'PhoneService' tiene 90.27% en una categoría.\n",
            "Columna 'OnlineSecurity' tiene 71.40% en una categoría.\n",
            "Columna 'TechSupport' tiene 71.05% en una categoría.\n",
            "\n",
            "Columnas a eliminar por desbalance (>70.0% en una categoría):\n",
            "['Churn', 'SeniorCitizen', 'PhoneService', 'OnlineSecurity', 'TechSupport']\n"
          ]
        }
      ]
    },
    {
      "cell_type": "code",
      "source": [
        "#Datos irrelevantes para el modelo <90%\n",
        "datos=datos.drop(columns='PhoneService')\n",
        "datos.columns"
      ],
      "metadata": {
        "colab": {
          "base_uri": "https://localhost:8080/"
        },
        "id": "4K7dn9p9n5g6",
        "outputId": "63fd69d3-0658-4467-cd12-ec2e01b10f32"
      },
      "execution_count": 34,
      "outputs": [
        {
          "output_type": "execute_result",
          "data": {
            "text/plain": [
              "Index(['Churn', 'gender', 'SeniorCitizen', 'Partner', 'Dependents', 'tenure',\n",
              "       'MultipleLines', 'InternetService', 'OnlineSecurity', 'OnlineBackup',\n",
              "       'DeviceProtection', 'TechSupport', 'StreamingTV', 'StreamingMovies',\n",
              "       'Contract', 'PaperlessBilling', 'PaymentMethod', 'Charges.Monthly',\n",
              "       'Charges.Total', 'Cuentas_Diarias'],\n",
              "      dtype='object')"
            ]
          },
          "metadata": {},
          "execution_count": 34
        }
      ]
    },
    {
      "cell_type": "code",
      "source": [
        "# Example of renaming a column\n",
        "#datos.rename(columns={'customer.gender': 'gender'}, inplace=True)\n",
        "#datos.rename(columns={'customer.SeniorCitizen': 'SeniorCitizen'}, inplace=True)\n",
        "#datos.rename(columns={'customer.Partner': 'Partner'}, inplace=True)\n",
        "#datos.rename(columns={'customer.Dependents': 'Dependents'}, inplace=True)\n",
        "#datos.rename(columns={'customer.tenure': 'tenure'}, inplace=True)\n",
        "#datos.rename(columns={'phone.MultipleLines': 'MultipleLines'}, inplace=True)\n",
        "#datos.rename(columns={'internet.InternetService': 'InternetService'}, inplace=True)\n",
        "#datos.rename(columns={'internet.OnlineSecurity': 'OnlineSecurity'}, inplace=True)\n",
        "#datos.rename(columns={'internet.OnlineBackup': 'OnlineBackup'}, inplace=True)\n",
        "#datos.rename(columns={'internet.DeviceProtection': 'DeviceProtection'}, inplace=True)\n",
        "#datos.rename(columns={'internet.TechSupport': 'TechSupport'}, inplace=True)\n",
        "#datos.rename(columns={'internet.StreamingTV': 'StreamingTV'}, inplace=True)\n",
        "#datos.rename(columns={'internet.StreamingMovies': 'StreamingMovies'}, inplace=True)\n",
        "#datos.rename(columns={'account.Contract': 'Contract'}, inplace=True)\n",
        "#datos.rename(columns={'account.PaperlessBilling': 'PaperlessBilling'}, inplace=True)\n",
        "#datos.rename(columns={'account.PaymentMethod': 'PaymentMethod'}, inplace=True)\n",
        "#datos.rename(columns={'account.Charges.Monthly': 'Charges.Monthly'}, inplace=True)\n",
        "#datos.rename(columns={'account.Charges.Total': 'Charges.Total'}, inplace=True)\n",
        "\n",
        "# Display the updated columns to show the change\n",
        "print(datos.columns)"
      ],
      "metadata": {
        "colab": {
          "base_uri": "https://localhost:8080/"
        },
        "id": "fcR88TqZomfm",
        "outputId": "c1a1b0f8-74d4-40c6-ebec-8995b4b6302d"
      },
      "execution_count": 35,
      "outputs": [
        {
          "output_type": "stream",
          "name": "stdout",
          "text": [
            "Index(['Churn', 'gender', 'SeniorCitizen', 'Partner', 'Dependents', 'tenure',\n",
            "       'MultipleLines', 'InternetService', 'OnlineSecurity', 'OnlineBackup',\n",
            "       'DeviceProtection', 'TechSupport', 'StreamingTV', 'StreamingMovies',\n",
            "       'Contract', 'PaperlessBilling', 'PaymentMethod', 'Charges.Monthly',\n",
            "       'Charges.Total', 'Cuentas_Diarias'],\n",
            "      dtype='object')\n"
          ]
        }
      ]
    },
    {
      "cell_type": "markdown",
      "source": [
        "##Encoding"
      ],
      "metadata": {
        "id": "QPsoTXA0qJeO"
      }
    },
    {
      "cell_type": "code",
      "source": [
        "datos.info()"
      ],
      "metadata": {
        "colab": {
          "base_uri": "https://localhost:8080/"
        },
        "id": "7Jrb68VeqNMS",
        "outputId": "ecbc5d90-cabb-4947-de69-e44590537217"
      },
      "execution_count": 36,
      "outputs": [
        {
          "output_type": "stream",
          "name": "stdout",
          "text": [
            "<class 'pandas.core.frame.DataFrame'>\n",
            "RangeIndex: 7267 entries, 0 to 7266\n",
            "Data columns (total 20 columns):\n",
            " #   Column            Non-Null Count  Dtype  \n",
            "---  ------            --------------  -----  \n",
            " 0   Churn             7267 non-null   int64  \n",
            " 1   gender            7267 non-null   object \n",
            " 2   SeniorCitizen     7267 non-null   int64  \n",
            " 3   Partner           7267 non-null   int64  \n",
            " 4   Dependents        7267 non-null   int64  \n",
            " 5   tenure            7267 non-null   int64  \n",
            " 6   MultipleLines     7267 non-null   int64  \n",
            " 7   InternetService   7267 non-null   object \n",
            " 8   OnlineSecurity    7267 non-null   int64  \n",
            " 9   OnlineBackup      7267 non-null   int64  \n",
            " 10  DeviceProtection  7267 non-null   int64  \n",
            " 11  TechSupport       7267 non-null   int64  \n",
            " 12  StreamingTV       7267 non-null   int64  \n",
            " 13  StreamingMovies   7267 non-null   int64  \n",
            " 14  Contract          7267 non-null   object \n",
            " 15  PaperlessBilling  7267 non-null   int64  \n",
            " 16  PaymentMethod     7267 non-null   object \n",
            " 17  Charges.Monthly   7267 non-null   float64\n",
            " 18  Charges.Total     7267 non-null   float64\n",
            " 19  Cuentas_Diarias   7267 non-null   float64\n",
            "dtypes: float64(3), int64(13), object(4)\n",
            "memory usage: 1.1+ MB\n"
          ]
        }
      ]
    },
    {
      "cell_type": "code",
      "source": [
        "categoricas = datos.select_dtypes(include=['object']).columns.tolist()\n",
        "print(\"Variables categóricas:\", categoricas)"
      ],
      "metadata": {
        "colab": {
          "base_uri": "https://localhost:8080/"
        },
        "id": "0OdljJp0qRgI",
        "outputId": "dafe6035-8a10-4734-c1d3-2db461abc6bb"
      },
      "execution_count": 37,
      "outputs": [
        {
          "output_type": "stream",
          "name": "stdout",
          "text": [
            "Variables categóricas: ['gender', 'InternetService', 'Contract', 'PaymentMethod']\n"
          ]
        }
      ]
    },
    {
      "cell_type": "code",
      "source": [
        "from sklearn.compose import make_column_transformer\n",
        "from sklearn.preprocessing import OneHotEncoder\n",
        "\n",
        "columnas=xIn.columns\n",
        "one_hot_encoder = make_column_transformer(\n",
        "    (OneHotEncoder(drop='if_binary'),categoricas),\n",
        "    remainder='passthrough',\n",
        "    sparse_threshold=0\n",
        ")\n",
        "x=one_hot_encoder.fit_transform(xIn)\n",
        "one_hot_encoder.get_feature_names_out(columnas)\n",
        "xIn=pd.DataFrame(x, columns=one_hot_encoder.get_feature_names_out(columnas))"
      ],
      "metadata": {
        "id": "y3pJjBVXqWhm"
      },
      "execution_count": 38,
      "outputs": []
    },
    {
      "cell_type": "code",
      "source": [
        "xIn.columns"
      ],
      "metadata": {
        "colab": {
          "base_uri": "https://localhost:8080/"
        },
        "id": "yNrdGKxZq9pd",
        "outputId": "2d94ff9d-4907-4548-d08a-74c8b6786079"
      },
      "execution_count": 39,
      "outputs": [
        {
          "output_type": "execute_result",
          "data": {
            "text/plain": [
              "Index(['onehotencoder__gender_Male', 'onehotencoder__InternetService_DSL',\n",
              "       'onehotencoder__InternetService_Fiber optic',\n",
              "       'onehotencoder__InternetService_No',\n",
              "       'onehotencoder__Contract_Month-to-month',\n",
              "       'onehotencoder__Contract_One year', 'onehotencoder__Contract_Two year',\n",
              "       'onehotencoder__PaymentMethod_Bank transfer (automatic)',\n",
              "       'onehotencoder__PaymentMethod_Credit card (automatic)',\n",
              "       'onehotencoder__PaymentMethod_Electronic check',\n",
              "       'onehotencoder__PaymentMethod_Mailed check', 'remainder__SeniorCitizen',\n",
              "       'remainder__Partner', 'remainder__Dependents', 'remainder__tenure',\n",
              "       'remainder__PhoneService', 'remainder__MultipleLines',\n",
              "       'remainder__OnlineSecurity', 'remainder__OnlineBackup',\n",
              "       'remainder__DeviceProtection', 'remainder__TechSupport',\n",
              "       'remainder__StreamingTV', 'remainder__StreamingMovies',\n",
              "       'remainder__PaperlessBilling', 'remainder__Charges.Monthly',\n",
              "       'remainder__Charges.Total', 'remainder__Cuentas_Diarias'],\n",
              "      dtype='object')"
            ]
          },
          "metadata": {},
          "execution_count": 39
        }
      ]
    },
    {
      "cell_type": "code",
      "source": [
        "xIn"
      ],
      "metadata": {
        "colab": {
          "base_uri": "https://localhost:8080/",
          "height": 461
        },
        "id": "3utGe_YWrBpE",
        "outputId": "f189ee93-455f-4258-e8c6-d319659a1d96"
      },
      "execution_count": 40,
      "outputs": [
        {
          "output_type": "execute_result",
          "data": {
            "text/plain": [
              "      onehotencoder__gender_Male  onehotencoder__InternetService_DSL  \\\n",
              "0                            0.0                                 1.0   \n",
              "1                            1.0                                 1.0   \n",
              "2                            1.0                                 0.0   \n",
              "3                            1.0                                 0.0   \n",
              "4                            0.0                                 0.0   \n",
              "...                          ...                                 ...   \n",
              "7262                         0.0                                 1.0   \n",
              "7263                         1.0                                 0.0   \n",
              "7264                         1.0                                 1.0   \n",
              "7265                         1.0                                 1.0   \n",
              "7266                         1.0                                 1.0   \n",
              "\n",
              "      onehotencoder__InternetService_Fiber optic  \\\n",
              "0                                            0.0   \n",
              "1                                            0.0   \n",
              "2                                            1.0   \n",
              "3                                            1.0   \n",
              "4                                            1.0   \n",
              "...                                          ...   \n",
              "7262                                         0.0   \n",
              "7263                                         1.0   \n",
              "7264                                         0.0   \n",
              "7265                                         0.0   \n",
              "7266                                         0.0   \n",
              "\n",
              "      onehotencoder__InternetService_No  \\\n",
              "0                                   0.0   \n",
              "1                                   0.0   \n",
              "2                                   0.0   \n",
              "3                                   0.0   \n",
              "4                                   0.0   \n",
              "...                                 ...   \n",
              "7262                                0.0   \n",
              "7263                                0.0   \n",
              "7264                                0.0   \n",
              "7265                                0.0   \n",
              "7266                                0.0   \n",
              "\n",
              "      onehotencoder__Contract_Month-to-month  \\\n",
              "0                                        0.0   \n",
              "1                                        1.0   \n",
              "2                                        1.0   \n",
              "3                                        1.0   \n",
              "4                                        1.0   \n",
              "...                                      ...   \n",
              "7262                                     0.0   \n",
              "7263                                     1.0   \n",
              "7264                                     1.0   \n",
              "7265                                     0.0   \n",
              "7266                                     0.0   \n",
              "\n",
              "      onehotencoder__Contract_One year  onehotencoder__Contract_Two year  \\\n",
              "0                                  1.0                               0.0   \n",
              "1                                  0.0                               0.0   \n",
              "2                                  0.0                               0.0   \n",
              "3                                  0.0                               0.0   \n",
              "4                                  0.0                               0.0   \n",
              "...                                ...                               ...   \n",
              "7262                               1.0                               0.0   \n",
              "7263                               0.0                               0.0   \n",
              "7264                               0.0                               0.0   \n",
              "7265                               0.0                               1.0   \n",
              "7266                               0.0                               1.0   \n",
              "\n",
              "      onehotencoder__PaymentMethod_Bank transfer (automatic)  \\\n",
              "0                                                   0.0        \n",
              "1                                                   0.0        \n",
              "2                                                   0.0        \n",
              "3                                                   0.0        \n",
              "4                                                   0.0        \n",
              "...                                                 ...        \n",
              "7262                                                0.0        \n",
              "7263                                                0.0        \n",
              "7264                                                0.0        \n",
              "7265                                                0.0        \n",
              "7266                                                0.0        \n",
              "\n",
              "      onehotencoder__PaymentMethod_Credit card (automatic)  \\\n",
              "0                                                   0.0      \n",
              "1                                                   0.0      \n",
              "2                                                   0.0      \n",
              "3                                                   0.0      \n",
              "4                                                   0.0      \n",
              "...                                                 ...      \n",
              "7262                                                0.0      \n",
              "7263                                                0.0      \n",
              "7264                                                0.0      \n",
              "7265                                                0.0      \n",
              "7266                                                0.0      \n",
              "\n",
              "      onehotencoder__PaymentMethod_Electronic check  ...  \\\n",
              "0                                               0.0  ...   \n",
              "1                                               0.0  ...   \n",
              "2                                               1.0  ...   \n",
              "3                                               1.0  ...   \n",
              "4                                               0.0  ...   \n",
              "...                                             ...  ...   \n",
              "7262                                            0.0  ...   \n",
              "7263                                            1.0  ...   \n",
              "7264                                            0.0  ...   \n",
              "7265                                            0.0  ...   \n",
              "7266                                            1.0  ...   \n",
              "\n",
              "      remainder__OnlineSecurity  remainder__OnlineBackup  \\\n",
              "0                           0.0                      1.0   \n",
              "1                           0.0                      0.0   \n",
              "2                           0.0                      0.0   \n",
              "3                           0.0                      1.0   \n",
              "4                           0.0                      0.0   \n",
              "...                         ...                      ...   \n",
              "7262                        1.0                      0.0   \n",
              "7263                        0.0                      0.0   \n",
              "7264                        0.0                      1.0   \n",
              "7265                        1.0                      0.0   \n",
              "7266                        1.0                      1.0   \n",
              "\n",
              "      remainder__DeviceProtection  remainder__TechSupport  \\\n",
              "0                             0.0                     1.0   \n",
              "1                             0.0                     0.0   \n",
              "2                             1.0                     0.0   \n",
              "3                             1.0                     0.0   \n",
              "4                             0.0                     1.0   \n",
              "...                           ...                     ...   \n",
              "7262                          0.0                     1.0   \n",
              "7263                          0.0                     0.0   \n",
              "7264                          0.0                     0.0   \n",
              "7265                          1.0                     1.0   \n",
              "7266                          1.0                     0.0   \n",
              "\n",
              "      remainder__StreamingTV  remainder__StreamingMovies  \\\n",
              "0                        1.0                         0.0   \n",
              "1                        0.0                         1.0   \n",
              "2                        0.0                         0.0   \n",
              "3                        1.0                         1.0   \n",
              "4                        1.0                         0.0   \n",
              "...                      ...                         ...   \n",
              "7262                     0.0                         0.0   \n",
              "7263                     0.0                         1.0   \n",
              "7264                     0.0                         0.0   \n",
              "7265                     0.0                         1.0   \n",
              "7266                     1.0                         1.0   \n",
              "\n",
              "      remainder__PaperlessBilling  remainder__Charges.Monthly  \\\n",
              "0                             1.0                       65.60   \n",
              "1                             0.0                       59.90   \n",
              "2                             1.0                       73.90   \n",
              "3                             1.0                       98.00   \n",
              "4                             1.0                       83.90   \n",
              "...                           ...                         ...   \n",
              "7262                          0.0                       55.15   \n",
              "7263                          1.0                       85.10   \n",
              "7264                          1.0                       50.30   \n",
              "7265                          0.0                       67.85   \n",
              "7266                          0.0                       59.00   \n",
              "\n",
              "      remainder__Charges.Total  remainder__Cuentas_Diarias  \n",
              "0                       593.30                        2.16  \n",
              "1                       542.40                        1.97  \n",
              "2                       280.85                        2.43  \n",
              "3                      1237.85                        3.22  \n",
              "4                       267.40                        2.76  \n",
              "...                        ...                         ...  \n",
              "7262                    742.90                        1.81  \n",
              "7263                   1873.70                        2.80  \n",
              "7264                     92.75                        1.65  \n",
              "7265                   4627.65                        2.23  \n",
              "7266                   3707.60                        1.94  \n",
              "\n",
              "[7267 rows x 27 columns]"
            ],
            "text/html": [
              "\n",
              "  <div id=\"df-fa1bef95-0c6a-41fb-a4d7-e39a4409ff97\" class=\"colab-df-container\">\n",
              "    <div>\n",
              "<style scoped>\n",
              "    .dataframe tbody tr th:only-of-type {\n",
              "        vertical-align: middle;\n",
              "    }\n",
              "\n",
              "    .dataframe tbody tr th {\n",
              "        vertical-align: top;\n",
              "    }\n",
              "\n",
              "    .dataframe thead th {\n",
              "        text-align: right;\n",
              "    }\n",
              "</style>\n",
              "<table border=\"1\" class=\"dataframe\">\n",
              "  <thead>\n",
              "    <tr style=\"text-align: right;\">\n",
              "      <th></th>\n",
              "      <th>onehotencoder__gender_Male</th>\n",
              "      <th>onehotencoder__InternetService_DSL</th>\n",
              "      <th>onehotencoder__InternetService_Fiber optic</th>\n",
              "      <th>onehotencoder__InternetService_No</th>\n",
              "      <th>onehotencoder__Contract_Month-to-month</th>\n",
              "      <th>onehotencoder__Contract_One year</th>\n",
              "      <th>onehotencoder__Contract_Two year</th>\n",
              "      <th>onehotencoder__PaymentMethod_Bank transfer (automatic)</th>\n",
              "      <th>onehotencoder__PaymentMethod_Credit card (automatic)</th>\n",
              "      <th>onehotencoder__PaymentMethod_Electronic check</th>\n",
              "      <th>...</th>\n",
              "      <th>remainder__OnlineSecurity</th>\n",
              "      <th>remainder__OnlineBackup</th>\n",
              "      <th>remainder__DeviceProtection</th>\n",
              "      <th>remainder__TechSupport</th>\n",
              "      <th>remainder__StreamingTV</th>\n",
              "      <th>remainder__StreamingMovies</th>\n",
              "      <th>remainder__PaperlessBilling</th>\n",
              "      <th>remainder__Charges.Monthly</th>\n",
              "      <th>remainder__Charges.Total</th>\n",
              "      <th>remainder__Cuentas_Diarias</th>\n",
              "    </tr>\n",
              "  </thead>\n",
              "  <tbody>\n",
              "    <tr>\n",
              "      <th>0</th>\n",
              "      <td>0.0</td>\n",
              "      <td>1.0</td>\n",
              "      <td>0.0</td>\n",
              "      <td>0.0</td>\n",
              "      <td>0.0</td>\n",
              "      <td>1.0</td>\n",
              "      <td>0.0</td>\n",
              "      <td>0.0</td>\n",
              "      <td>0.0</td>\n",
              "      <td>0.0</td>\n",
              "      <td>...</td>\n",
              "      <td>0.0</td>\n",
              "      <td>1.0</td>\n",
              "      <td>0.0</td>\n",
              "      <td>1.0</td>\n",
              "      <td>1.0</td>\n",
              "      <td>0.0</td>\n",
              "      <td>1.0</td>\n",
              "      <td>65.60</td>\n",
              "      <td>593.30</td>\n",
              "      <td>2.16</td>\n",
              "    </tr>\n",
              "    <tr>\n",
              "      <th>1</th>\n",
              "      <td>1.0</td>\n",
              "      <td>1.0</td>\n",
              "      <td>0.0</td>\n",
              "      <td>0.0</td>\n",
              "      <td>1.0</td>\n",
              "      <td>0.0</td>\n",
              "      <td>0.0</td>\n",
              "      <td>0.0</td>\n",
              "      <td>0.0</td>\n",
              "      <td>0.0</td>\n",
              "      <td>...</td>\n",
              "      <td>0.0</td>\n",
              "      <td>0.0</td>\n",
              "      <td>0.0</td>\n",
              "      <td>0.0</td>\n",
              "      <td>0.0</td>\n",
              "      <td>1.0</td>\n",
              "      <td>0.0</td>\n",
              "      <td>59.90</td>\n",
              "      <td>542.40</td>\n",
              "      <td>1.97</td>\n",
              "    </tr>\n",
              "    <tr>\n",
              "      <th>2</th>\n",
              "      <td>1.0</td>\n",
              "      <td>0.0</td>\n",
              "      <td>1.0</td>\n",
              "      <td>0.0</td>\n",
              "      <td>1.0</td>\n",
              "      <td>0.0</td>\n",
              "      <td>0.0</td>\n",
              "      <td>0.0</td>\n",
              "      <td>0.0</td>\n",
              "      <td>1.0</td>\n",
              "      <td>...</td>\n",
              "      <td>0.0</td>\n",
              "      <td>0.0</td>\n",
              "      <td>1.0</td>\n",
              "      <td>0.0</td>\n",
              "      <td>0.0</td>\n",
              "      <td>0.0</td>\n",
              "      <td>1.0</td>\n",
              "      <td>73.90</td>\n",
              "      <td>280.85</td>\n",
              "      <td>2.43</td>\n",
              "    </tr>\n",
              "    <tr>\n",
              "      <th>3</th>\n",
              "      <td>1.0</td>\n",
              "      <td>0.0</td>\n",
              "      <td>1.0</td>\n",
              "      <td>0.0</td>\n",
              "      <td>1.0</td>\n",
              "      <td>0.0</td>\n",
              "      <td>0.0</td>\n",
              "      <td>0.0</td>\n",
              "      <td>0.0</td>\n",
              "      <td>1.0</td>\n",
              "      <td>...</td>\n",
              "      <td>0.0</td>\n",
              "      <td>1.0</td>\n",
              "      <td>1.0</td>\n",
              "      <td>0.0</td>\n",
              "      <td>1.0</td>\n",
              "      <td>1.0</td>\n",
              "      <td>1.0</td>\n",
              "      <td>98.00</td>\n",
              "      <td>1237.85</td>\n",
              "      <td>3.22</td>\n",
              "    </tr>\n",
              "    <tr>\n",
              "      <th>4</th>\n",
              "      <td>0.0</td>\n",
              "      <td>0.0</td>\n",
              "      <td>1.0</td>\n",
              "      <td>0.0</td>\n",
              "      <td>1.0</td>\n",
              "      <td>0.0</td>\n",
              "      <td>0.0</td>\n",
              "      <td>0.0</td>\n",
              "      <td>0.0</td>\n",
              "      <td>0.0</td>\n",
              "      <td>...</td>\n",
              "      <td>0.0</td>\n",
              "      <td>0.0</td>\n",
              "      <td>0.0</td>\n",
              "      <td>1.0</td>\n",
              "      <td>1.0</td>\n",
              "      <td>0.0</td>\n",
              "      <td>1.0</td>\n",
              "      <td>83.90</td>\n",
              "      <td>267.40</td>\n",
              "      <td>2.76</td>\n",
              "    </tr>\n",
              "    <tr>\n",
              "      <th>...</th>\n",
              "      <td>...</td>\n",
              "      <td>...</td>\n",
              "      <td>...</td>\n",
              "      <td>...</td>\n",
              "      <td>...</td>\n",
              "      <td>...</td>\n",
              "      <td>...</td>\n",
              "      <td>...</td>\n",
              "      <td>...</td>\n",
              "      <td>...</td>\n",
              "      <td>...</td>\n",
              "      <td>...</td>\n",
              "      <td>...</td>\n",
              "      <td>...</td>\n",
              "      <td>...</td>\n",
              "      <td>...</td>\n",
              "      <td>...</td>\n",
              "      <td>...</td>\n",
              "      <td>...</td>\n",
              "      <td>...</td>\n",
              "      <td>...</td>\n",
              "    </tr>\n",
              "    <tr>\n",
              "      <th>7262</th>\n",
              "      <td>0.0</td>\n",
              "      <td>1.0</td>\n",
              "      <td>0.0</td>\n",
              "      <td>0.0</td>\n",
              "      <td>0.0</td>\n",
              "      <td>1.0</td>\n",
              "      <td>0.0</td>\n",
              "      <td>0.0</td>\n",
              "      <td>0.0</td>\n",
              "      <td>0.0</td>\n",
              "      <td>...</td>\n",
              "      <td>1.0</td>\n",
              "      <td>0.0</td>\n",
              "      <td>0.0</td>\n",
              "      <td>1.0</td>\n",
              "      <td>0.0</td>\n",
              "      <td>0.0</td>\n",
              "      <td>0.0</td>\n",
              "      <td>55.15</td>\n",
              "      <td>742.90</td>\n",
              "      <td>1.81</td>\n",
              "    </tr>\n",
              "    <tr>\n",
              "      <th>7263</th>\n",
              "      <td>1.0</td>\n",
              "      <td>0.0</td>\n",
              "      <td>1.0</td>\n",
              "      <td>0.0</td>\n",
              "      <td>1.0</td>\n",
              "      <td>0.0</td>\n",
              "      <td>0.0</td>\n",
              "      <td>0.0</td>\n",
              "      <td>0.0</td>\n",
              "      <td>1.0</td>\n",
              "      <td>...</td>\n",
              "      <td>0.0</td>\n",
              "      <td>0.0</td>\n",
              "      <td>0.0</td>\n",
              "      <td>0.0</td>\n",
              "      <td>0.0</td>\n",
              "      <td>1.0</td>\n",
              "      <td>1.0</td>\n",
              "      <td>85.10</td>\n",
              "      <td>1873.70</td>\n",
              "      <td>2.80</td>\n",
              "    </tr>\n",
              "    <tr>\n",
              "      <th>7264</th>\n",
              "      <td>1.0</td>\n",
              "      <td>1.0</td>\n",
              "      <td>0.0</td>\n",
              "      <td>0.0</td>\n",
              "      <td>1.0</td>\n",
              "      <td>0.0</td>\n",
              "      <td>0.0</td>\n",
              "      <td>0.0</td>\n",
              "      <td>0.0</td>\n",
              "      <td>0.0</td>\n",
              "      <td>...</td>\n",
              "      <td>0.0</td>\n",
              "      <td>1.0</td>\n",
              "      <td>0.0</td>\n",
              "      <td>0.0</td>\n",
              "      <td>0.0</td>\n",
              "      <td>0.0</td>\n",
              "      <td>1.0</td>\n",
              "      <td>50.30</td>\n",
              "      <td>92.75</td>\n",
              "      <td>1.65</td>\n",
              "    </tr>\n",
              "    <tr>\n",
              "      <th>7265</th>\n",
              "      <td>1.0</td>\n",
              "      <td>1.0</td>\n",
              "      <td>0.0</td>\n",
              "      <td>0.0</td>\n",
              "      <td>0.0</td>\n",
              "      <td>0.0</td>\n",
              "      <td>1.0</td>\n",
              "      <td>0.0</td>\n",
              "      <td>0.0</td>\n",
              "      <td>0.0</td>\n",
              "      <td>...</td>\n",
              "      <td>1.0</td>\n",
              "      <td>0.0</td>\n",
              "      <td>1.0</td>\n",
              "      <td>1.0</td>\n",
              "      <td>0.0</td>\n",
              "      <td>1.0</td>\n",
              "      <td>0.0</td>\n",
              "      <td>67.85</td>\n",
              "      <td>4627.65</td>\n",
              "      <td>2.23</td>\n",
              "    </tr>\n",
              "    <tr>\n",
              "      <th>7266</th>\n",
              "      <td>1.0</td>\n",
              "      <td>1.0</td>\n",
              "      <td>0.0</td>\n",
              "      <td>0.0</td>\n",
              "      <td>0.0</td>\n",
              "      <td>0.0</td>\n",
              "      <td>1.0</td>\n",
              "      <td>0.0</td>\n",
              "      <td>0.0</td>\n",
              "      <td>1.0</td>\n",
              "      <td>...</td>\n",
              "      <td>1.0</td>\n",
              "      <td>1.0</td>\n",
              "      <td>1.0</td>\n",
              "      <td>0.0</td>\n",
              "      <td>1.0</td>\n",
              "      <td>1.0</td>\n",
              "      <td>0.0</td>\n",
              "      <td>59.00</td>\n",
              "      <td>3707.60</td>\n",
              "      <td>1.94</td>\n",
              "    </tr>\n",
              "  </tbody>\n",
              "</table>\n",
              "<p>7267 rows × 27 columns</p>\n",
              "</div>\n",
              "    <div class=\"colab-df-buttons\">\n",
              "\n",
              "  <div class=\"colab-df-container\">\n",
              "    <button class=\"colab-df-convert\" onclick=\"convertToInteractive('df-fa1bef95-0c6a-41fb-a4d7-e39a4409ff97')\"\n",
              "            title=\"Convert this dataframe to an interactive table.\"\n",
              "            style=\"display:none;\">\n",
              "\n",
              "  <svg xmlns=\"http://www.w3.org/2000/svg\" height=\"24px\" viewBox=\"0 -960 960 960\">\n",
              "    <path d=\"M120-120v-720h720v720H120Zm60-500h600v-160H180v160Zm220 220h160v-160H400v160Zm0 220h160v-160H400v160ZM180-400h160v-160H180v160Zm440 0h160v-160H620v160ZM180-180h160v-160H180v160Zm440 0h160v-160H620v160Z\"/>\n",
              "  </svg>\n",
              "    </button>\n",
              "\n",
              "  <style>\n",
              "    .colab-df-container {\n",
              "      display:flex;\n",
              "      gap: 12px;\n",
              "    }\n",
              "\n",
              "    .colab-df-convert {\n",
              "      background-color: #E8F0FE;\n",
              "      border: none;\n",
              "      border-radius: 50%;\n",
              "      cursor: pointer;\n",
              "      display: none;\n",
              "      fill: #1967D2;\n",
              "      height: 32px;\n",
              "      padding: 0 0 0 0;\n",
              "      width: 32px;\n",
              "    }\n",
              "\n",
              "    .colab-df-convert:hover {\n",
              "      background-color: #E2EBFA;\n",
              "      box-shadow: 0px 1px 2px rgba(60, 64, 67, 0.3), 0px 1px 3px 1px rgba(60, 64, 67, 0.15);\n",
              "      fill: #174EA6;\n",
              "    }\n",
              "\n",
              "    .colab-df-buttons div {\n",
              "      margin-bottom: 4px;\n",
              "    }\n",
              "\n",
              "    [theme=dark] .colab-df-convert {\n",
              "      background-color: #3B4455;\n",
              "      fill: #D2E3FC;\n",
              "    }\n",
              "\n",
              "    [theme=dark] .colab-df-convert:hover {\n",
              "      background-color: #434B5C;\n",
              "      box-shadow: 0px 1px 3px 1px rgba(0, 0, 0, 0.15);\n",
              "      filter: drop-shadow(0px 1px 2px rgba(0, 0, 0, 0.3));\n",
              "      fill: #FFFFFF;\n",
              "    }\n",
              "  </style>\n",
              "\n",
              "    <script>\n",
              "      const buttonEl =\n",
              "        document.querySelector('#df-fa1bef95-0c6a-41fb-a4d7-e39a4409ff97 button.colab-df-convert');\n",
              "      buttonEl.style.display =\n",
              "        google.colab.kernel.accessAllowed ? 'block' : 'none';\n",
              "\n",
              "      async function convertToInteractive(key) {\n",
              "        const element = document.querySelector('#df-fa1bef95-0c6a-41fb-a4d7-e39a4409ff97');\n",
              "        const dataTable =\n",
              "          await google.colab.kernel.invokeFunction('convertToInteractive',\n",
              "                                                    [key], {});\n",
              "        if (!dataTable) return;\n",
              "\n",
              "        const docLinkHtml = 'Like what you see? Visit the ' +\n",
              "          '<a target=\"_blank\" href=https://colab.research.google.com/notebooks/data_table.ipynb>data table notebook</a>'\n",
              "          + ' to learn more about interactive tables.';\n",
              "        element.innerHTML = '';\n",
              "        dataTable['output_type'] = 'display_data';\n",
              "        await google.colab.output.renderOutput(dataTable, element);\n",
              "        const docLink = document.createElement('div');\n",
              "        docLink.innerHTML = docLinkHtml;\n",
              "        element.appendChild(docLink);\n",
              "      }\n",
              "    </script>\n",
              "  </div>\n",
              "\n",
              "\n",
              "    <div id=\"df-1326f58e-8133-4d13-9f34-e58492f06733\">\n",
              "      <button class=\"colab-df-quickchart\" onclick=\"quickchart('df-1326f58e-8133-4d13-9f34-e58492f06733')\"\n",
              "                title=\"Suggest charts\"\n",
              "                style=\"display:none;\">\n",
              "\n",
              "<svg xmlns=\"http://www.w3.org/2000/svg\" height=\"24px\"viewBox=\"0 0 24 24\"\n",
              "     width=\"24px\">\n",
              "    <g>\n",
              "        <path d=\"M19 3H5c-1.1 0-2 .9-2 2v14c0 1.1.9 2 2 2h14c1.1 0 2-.9 2-2V5c0-1.1-.9-2-2-2zM9 17H7v-7h2v7zm4 0h-2V7h2v10zm4 0h-2v-4h2v4z\"/>\n",
              "    </g>\n",
              "</svg>\n",
              "      </button>\n",
              "\n",
              "<style>\n",
              "  .colab-df-quickchart {\n",
              "      --bg-color: #E8F0FE;\n",
              "      --fill-color: #1967D2;\n",
              "      --hover-bg-color: #E2EBFA;\n",
              "      --hover-fill-color: #174EA6;\n",
              "      --disabled-fill-color: #AAA;\n",
              "      --disabled-bg-color: #DDD;\n",
              "  }\n",
              "\n",
              "  [theme=dark] .colab-df-quickchart {\n",
              "      --bg-color: #3B4455;\n",
              "      --fill-color: #D2E3FC;\n",
              "      --hover-bg-color: #434B5C;\n",
              "      --hover-fill-color: #FFFFFF;\n",
              "      --disabled-bg-color: #3B4455;\n",
              "      --disabled-fill-color: #666;\n",
              "  }\n",
              "\n",
              "  .colab-df-quickchart {\n",
              "    background-color: var(--bg-color);\n",
              "    border: none;\n",
              "    border-radius: 50%;\n",
              "    cursor: pointer;\n",
              "    display: none;\n",
              "    fill: var(--fill-color);\n",
              "    height: 32px;\n",
              "    padding: 0;\n",
              "    width: 32px;\n",
              "  }\n",
              "\n",
              "  .colab-df-quickchart:hover {\n",
              "    background-color: var(--hover-bg-color);\n",
              "    box-shadow: 0 1px 2px rgba(60, 64, 67, 0.3), 0 1px 3px 1px rgba(60, 64, 67, 0.15);\n",
              "    fill: var(--button-hover-fill-color);\n",
              "  }\n",
              "\n",
              "  .colab-df-quickchart-complete:disabled,\n",
              "  .colab-df-quickchart-complete:disabled:hover {\n",
              "    background-color: var(--disabled-bg-color);\n",
              "    fill: var(--disabled-fill-color);\n",
              "    box-shadow: none;\n",
              "  }\n",
              "\n",
              "  .colab-df-spinner {\n",
              "    border: 2px solid var(--fill-color);\n",
              "    border-color: transparent;\n",
              "    border-bottom-color: var(--fill-color);\n",
              "    animation:\n",
              "      spin 1s steps(1) infinite;\n",
              "  }\n",
              "\n",
              "  @keyframes spin {\n",
              "    0% {\n",
              "      border-color: transparent;\n",
              "      border-bottom-color: var(--fill-color);\n",
              "      border-left-color: var(--fill-color);\n",
              "    }\n",
              "    20% {\n",
              "      border-color: transparent;\n",
              "      border-left-color: var(--fill-color);\n",
              "      border-top-color: var(--fill-color);\n",
              "    }\n",
              "    30% {\n",
              "      border-color: transparent;\n",
              "      border-left-color: var(--fill-color);\n",
              "      border-top-color: var(--fill-color);\n",
              "      border-right-color: var(--fill-color);\n",
              "    }\n",
              "    40% {\n",
              "      border-color: transparent;\n",
              "      border-right-color: var(--fill-color);\n",
              "      border-top-color: var(--fill-color);\n",
              "    }\n",
              "    60% {\n",
              "      border-color: transparent;\n",
              "      border-right-color: var(--fill-color);\n",
              "    }\n",
              "    80% {\n",
              "      border-color: transparent;\n",
              "      border-right-color: var(--fill-color);\n",
              "      border-bottom-color: var(--fill-color);\n",
              "    }\n",
              "    90% {\n",
              "      border-color: transparent;\n",
              "      border-bottom-color: var(--fill-color);\n",
              "    }\n",
              "  }\n",
              "</style>\n",
              "\n",
              "      <script>\n",
              "        async function quickchart(key) {\n",
              "          const quickchartButtonEl =\n",
              "            document.querySelector('#' + key + ' button');\n",
              "          quickchartButtonEl.disabled = true;  // To prevent multiple clicks.\n",
              "          quickchartButtonEl.classList.add('colab-df-spinner');\n",
              "          try {\n",
              "            const charts = await google.colab.kernel.invokeFunction(\n",
              "                'suggestCharts', [key], {});\n",
              "          } catch (error) {\n",
              "            console.error('Error during call to suggestCharts:', error);\n",
              "          }\n",
              "          quickchartButtonEl.classList.remove('colab-df-spinner');\n",
              "          quickchartButtonEl.classList.add('colab-df-quickchart-complete');\n",
              "        }\n",
              "        (() => {\n",
              "          let quickchartButtonEl =\n",
              "            document.querySelector('#df-1326f58e-8133-4d13-9f34-e58492f06733 button');\n",
              "          quickchartButtonEl.style.display =\n",
              "            google.colab.kernel.accessAllowed ? 'block' : 'none';\n",
              "        })();\n",
              "      </script>\n",
              "    </div>\n",
              "\n",
              "  <div id=\"id_2270b9b6-fe7b-4d61-b4cb-74332de5e510\">\n",
              "    <style>\n",
              "      .colab-df-generate {\n",
              "        background-color: #E8F0FE;\n",
              "        border: none;\n",
              "        border-radius: 50%;\n",
              "        cursor: pointer;\n",
              "        display: none;\n",
              "        fill: #1967D2;\n",
              "        height: 32px;\n",
              "        padding: 0 0 0 0;\n",
              "        width: 32px;\n",
              "      }\n",
              "\n",
              "      .colab-df-generate:hover {\n",
              "        background-color: #E2EBFA;\n",
              "        box-shadow: 0px 1px 2px rgba(60, 64, 67, 0.3), 0px 1px 3px 1px rgba(60, 64, 67, 0.15);\n",
              "        fill: #174EA6;\n",
              "      }\n",
              "\n",
              "      [theme=dark] .colab-df-generate {\n",
              "        background-color: #3B4455;\n",
              "        fill: #D2E3FC;\n",
              "      }\n",
              "\n",
              "      [theme=dark] .colab-df-generate:hover {\n",
              "        background-color: #434B5C;\n",
              "        box-shadow: 0px 1px 3px 1px rgba(0, 0, 0, 0.15);\n",
              "        filter: drop-shadow(0px 1px 2px rgba(0, 0, 0, 0.3));\n",
              "        fill: #FFFFFF;\n",
              "      }\n",
              "    </style>\n",
              "    <button class=\"colab-df-generate\" onclick=\"generateWithVariable('xIn')\"\n",
              "            title=\"Generate code using this dataframe.\"\n",
              "            style=\"display:none;\">\n",
              "\n",
              "  <svg xmlns=\"http://www.w3.org/2000/svg\" height=\"24px\"viewBox=\"0 0 24 24\"\n",
              "       width=\"24px\">\n",
              "    <path d=\"M7,19H8.4L18.45,9,17,7.55,7,17.6ZM5,21V16.75L18.45,3.32a2,2,0,0,1,2.83,0l1.4,1.43a1.91,1.91,0,0,1,.58,1.4,1.91,1.91,0,0,1-.58,1.4L9.25,21ZM18.45,9,17,7.55Zm-12,3A5.31,5.31,0,0,0,4.9,8.1,5.31,5.31,0,0,0,1,6.5,5.31,5.31,0,0,0,4.9,4.9,5.31,5.31,0,0,0,6.5,1,5.31,5.31,0,0,0,8.1,4.9,5.31,5.31,0,0,0,12,6.5,5.46,5.46,0,0,0,6.5,12Z\"/>\n",
              "  </svg>\n",
              "    </button>\n",
              "    <script>\n",
              "      (() => {\n",
              "      const buttonEl =\n",
              "        document.querySelector('#id_2270b9b6-fe7b-4d61-b4cb-74332de5e510 button.colab-df-generate');\n",
              "      buttonEl.style.display =\n",
              "        google.colab.kernel.accessAllowed ? 'block' : 'none';\n",
              "\n",
              "      buttonEl.onclick = () => {\n",
              "        google.colab.notebook.generateWithVariable('xIn');\n",
              "      }\n",
              "      })();\n",
              "    </script>\n",
              "  </div>\n",
              "\n",
              "    </div>\n",
              "  </div>\n"
            ],
            "application/vnd.google.colaboratory.intrinsic+json": {
              "type": "dataframe",
              "variable_name": "xIn"
            }
          },
          "metadata": {},
          "execution_count": 40
        }
      ]
    },
    {
      "cell_type": "code",
      "source": [
        "yOut"
      ],
      "metadata": {
        "colab": {
          "base_uri": "https://localhost:8080/",
          "height": 458
        },
        "id": "VE-6-S2vrE24",
        "outputId": "ce0e78ff-c977-46c2-f400-8290d3277f2e"
      },
      "execution_count": 41,
      "outputs": [
        {
          "output_type": "execute_result",
          "data": {
            "text/plain": [
              "0       0\n",
              "1       0\n",
              "2       1\n",
              "3       1\n",
              "4       1\n",
              "       ..\n",
              "7262    0\n",
              "7263    1\n",
              "7264    0\n",
              "7265    0\n",
              "7266    0\n",
              "Name: Churn, Length: 7267, dtype: int64"
            ],
            "text/html": [
              "<div>\n",
              "<style scoped>\n",
              "    .dataframe tbody tr th:only-of-type {\n",
              "        vertical-align: middle;\n",
              "    }\n",
              "\n",
              "    .dataframe tbody tr th {\n",
              "        vertical-align: top;\n",
              "    }\n",
              "\n",
              "    .dataframe thead th {\n",
              "        text-align: right;\n",
              "    }\n",
              "</style>\n",
              "<table border=\"1\" class=\"dataframe\">\n",
              "  <thead>\n",
              "    <tr style=\"text-align: right;\">\n",
              "      <th></th>\n",
              "      <th>Churn</th>\n",
              "    </tr>\n",
              "  </thead>\n",
              "  <tbody>\n",
              "    <tr>\n",
              "      <th>0</th>\n",
              "      <td>0</td>\n",
              "    </tr>\n",
              "    <tr>\n",
              "      <th>1</th>\n",
              "      <td>0</td>\n",
              "    </tr>\n",
              "    <tr>\n",
              "      <th>2</th>\n",
              "      <td>1</td>\n",
              "    </tr>\n",
              "    <tr>\n",
              "      <th>3</th>\n",
              "      <td>1</td>\n",
              "    </tr>\n",
              "    <tr>\n",
              "      <th>4</th>\n",
              "      <td>1</td>\n",
              "    </tr>\n",
              "    <tr>\n",
              "      <th>...</th>\n",
              "      <td>...</td>\n",
              "    </tr>\n",
              "    <tr>\n",
              "      <th>7262</th>\n",
              "      <td>0</td>\n",
              "    </tr>\n",
              "    <tr>\n",
              "      <th>7263</th>\n",
              "      <td>1</td>\n",
              "    </tr>\n",
              "    <tr>\n",
              "      <th>7264</th>\n",
              "      <td>0</td>\n",
              "    </tr>\n",
              "    <tr>\n",
              "      <th>7265</th>\n",
              "      <td>0</td>\n",
              "    </tr>\n",
              "    <tr>\n",
              "      <th>7266</th>\n",
              "      <td>0</td>\n",
              "    </tr>\n",
              "  </tbody>\n",
              "</table>\n",
              "<p>7267 rows × 1 columns</p>\n",
              "</div><br><label><b>dtype:</b> int64</label>"
            ]
          },
          "metadata": {},
          "execution_count": 41
        }
      ]
    },
    {
      "cell_type": "markdown",
      "source": [
        "##Balanceo de Clases"
      ],
      "metadata": {
        "id": "IoFe1oJArQMZ"
      }
    },
    {
      "cell_type": "code",
      "source": [
        "datos.Churn.value_counts()"
      ],
      "metadata": {
        "colab": {
          "base_uri": "https://localhost:8080/",
          "height": 178
        },
        "id": "Hp8-psuSrOmG",
        "outputId": "7a0ec3ec-d695-4e35-a1d2-effa84fe1b59"
      },
      "execution_count": 42,
      "outputs": [
        {
          "output_type": "execute_result",
          "data": {
            "text/plain": [
              "Churn\n",
              "0    5398\n",
              "1    1869\n",
              "Name: count, dtype: int64"
            ],
            "text/html": [
              "<div>\n",
              "<style scoped>\n",
              "    .dataframe tbody tr th:only-of-type {\n",
              "        vertical-align: middle;\n",
              "    }\n",
              "\n",
              "    .dataframe tbody tr th {\n",
              "        vertical-align: top;\n",
              "    }\n",
              "\n",
              "    .dataframe thead th {\n",
              "        text-align: right;\n",
              "    }\n",
              "</style>\n",
              "<table border=\"1\" class=\"dataframe\">\n",
              "  <thead>\n",
              "    <tr style=\"text-align: right;\">\n",
              "      <th></th>\n",
              "      <th>count</th>\n",
              "    </tr>\n",
              "    <tr>\n",
              "      <th>Churn</th>\n",
              "      <th></th>\n",
              "    </tr>\n",
              "  </thead>\n",
              "  <tbody>\n",
              "    <tr>\n",
              "      <th>0</th>\n",
              "      <td>5398</td>\n",
              "    </tr>\n",
              "    <tr>\n",
              "      <th>1</th>\n",
              "      <td>1869</td>\n",
              "    </tr>\n",
              "  </tbody>\n",
              "</table>\n",
              "</div><br><label><b>dtype:</b> int64</label>"
            ]
          },
          "metadata": {},
          "execution_count": 42
        }
      ]
    },
    {
      "cell_type": "code",
      "source": [
        "xIn.info()"
      ],
      "metadata": {
        "colab": {
          "base_uri": "https://localhost:8080/"
        },
        "id": "4ip-eG2ZrkCE",
        "outputId": "52355194-1c7f-4953-e343-ab2892e9eb45"
      },
      "execution_count": 43,
      "outputs": [
        {
          "output_type": "stream",
          "name": "stdout",
          "text": [
            "<class 'pandas.core.frame.DataFrame'>\n",
            "RangeIndex: 7267 entries, 0 to 7266\n",
            "Data columns (total 27 columns):\n",
            " #   Column                                                  Non-Null Count  Dtype  \n",
            "---  ------                                                  --------------  -----  \n",
            " 0   onehotencoder__gender_Male                              7267 non-null   float64\n",
            " 1   onehotencoder__InternetService_DSL                      7267 non-null   float64\n",
            " 2   onehotencoder__InternetService_Fiber optic              7267 non-null   float64\n",
            " 3   onehotencoder__InternetService_No                       7267 non-null   float64\n",
            " 4   onehotencoder__Contract_Month-to-month                  7267 non-null   float64\n",
            " 5   onehotencoder__Contract_One year                        7267 non-null   float64\n",
            " 6   onehotencoder__Contract_Two year                        7267 non-null   float64\n",
            " 7   onehotencoder__PaymentMethod_Bank transfer (automatic)  7267 non-null   float64\n",
            " 8   onehotencoder__PaymentMethod_Credit card (automatic)    7267 non-null   float64\n",
            " 9   onehotencoder__PaymentMethod_Electronic check           7267 non-null   float64\n",
            " 10  onehotencoder__PaymentMethod_Mailed check               7267 non-null   float64\n",
            " 11  remainder__SeniorCitizen                                7267 non-null   float64\n",
            " 12  remainder__Partner                                      7267 non-null   float64\n",
            " 13  remainder__Dependents                                   7267 non-null   float64\n",
            " 14  remainder__tenure                                       7267 non-null   float64\n",
            " 15  remainder__PhoneService                                 7267 non-null   float64\n",
            " 16  remainder__MultipleLines                                7267 non-null   float64\n",
            " 17  remainder__OnlineSecurity                               7267 non-null   float64\n",
            " 18  remainder__OnlineBackup                                 7267 non-null   float64\n",
            " 19  remainder__DeviceProtection                             7267 non-null   float64\n",
            " 20  remainder__TechSupport                                  7267 non-null   float64\n",
            " 21  remainder__StreamingTV                                  7267 non-null   float64\n",
            " 22  remainder__StreamingMovies                              7267 non-null   float64\n",
            " 23  remainder__PaperlessBilling                             7267 non-null   float64\n",
            " 24  remainder__Charges.Monthly                              7267 non-null   float64\n",
            " 25  remainder__Charges.Total                                7267 non-null   float64\n",
            " 26  remainder__Cuentas_Diarias                              7267 non-null   float64\n",
            "dtypes: float64(27)\n",
            "memory usage: 1.5 MB\n"
          ]
        }
      ]
    },
    {
      "cell_type": "code",
      "source": [
        "over_sampling=SMOTE()"
      ],
      "metadata": {
        "id": "31k1wt6LrmQS"
      },
      "execution_count": 44,
      "outputs": []
    },
    {
      "cell_type": "code",
      "source": [
        "x_over,y_over=over_sampling.fit_resample(xIn,yOut)"
      ],
      "metadata": {
        "id": "725ZrHwer2De"
      },
      "execution_count": 45,
      "outputs": []
    },
    {
      "cell_type": "code",
      "source": [
        "y_over.value_counts(normalize=False)"
      ],
      "metadata": {
        "colab": {
          "base_uri": "https://localhost:8080/",
          "height": 178
        },
        "id": "eJ3usR-Bry1O",
        "outputId": "01257c9d-5d27-4573-ce55-9dc04b95bc6a"
      },
      "execution_count": 46,
      "outputs": [
        {
          "output_type": "execute_result",
          "data": {
            "text/plain": [
              "Churn\n",
              "0    5398\n",
              "1    5398\n",
              "Name: count, dtype: int64"
            ],
            "text/html": [
              "<div>\n",
              "<style scoped>\n",
              "    .dataframe tbody tr th:only-of-type {\n",
              "        vertical-align: middle;\n",
              "    }\n",
              "\n",
              "    .dataframe tbody tr th {\n",
              "        vertical-align: top;\n",
              "    }\n",
              "\n",
              "    .dataframe thead th {\n",
              "        text-align: right;\n",
              "    }\n",
              "</style>\n",
              "<table border=\"1\" class=\"dataframe\">\n",
              "  <thead>\n",
              "    <tr style=\"text-align: right;\">\n",
              "      <th></th>\n",
              "      <th>count</th>\n",
              "    </tr>\n",
              "    <tr>\n",
              "      <th>Churn</th>\n",
              "      <th></th>\n",
              "    </tr>\n",
              "  </thead>\n",
              "  <tbody>\n",
              "    <tr>\n",
              "      <th>0</th>\n",
              "      <td>5398</td>\n",
              "    </tr>\n",
              "    <tr>\n",
              "      <th>1</th>\n",
              "      <td>5398</td>\n",
              "    </tr>\n",
              "  </tbody>\n",
              "</table>\n",
              "</div><br><label><b>dtype:</b> int64</label>"
            ]
          },
          "metadata": {},
          "execution_count": 46
        }
      ]
    },
    {
      "cell_type": "markdown",
      "source": [
        "#🎯Correlacion y Seleccion de **Variables**"
      ],
      "metadata": {
        "id": "E1xMa97FtUJs"
      }
    },
    {
      "cell_type": "markdown",
      "source": [
        "##Analisis de correlacion"
      ],
      "metadata": {
        "id": "jNVRt5kotoxv"
      }
    },
    {
      "cell_type": "code",
      "source": [
        "datosOneHotEncoder=pd.concat([x_over.reset_index(drop=True), y_over.reset_index(drop=True)], axis=1)\n",
        "datosOneHotEncoder"
      ],
      "metadata": {
        "colab": {
          "base_uri": "https://localhost:8080/",
          "height": 461
        },
        "id": "wuwL4QWGtuJV",
        "outputId": "0ab68b9f-f01a-4482-aa7d-ac153de6fccb"
      },
      "execution_count": 47,
      "outputs": [
        {
          "output_type": "execute_result",
          "data": {
            "text/plain": [
              "       onehotencoder__gender_Male  onehotencoder__InternetService_DSL  \\\n",
              "0                        0.000000                            1.000000   \n",
              "1                        1.000000                            1.000000   \n",
              "2                        1.000000                            0.000000   \n",
              "3                        1.000000                            0.000000   \n",
              "4                        0.000000                            0.000000   \n",
              "...                           ...                                 ...   \n",
              "10791                    0.238870                            0.000000   \n",
              "10792                    0.510837                            0.000000   \n",
              "10793                    0.000000                            0.000000   \n",
              "10794                    0.000000                            0.784725   \n",
              "10795                    0.656425                            0.000000   \n",
              "\n",
              "       onehotencoder__InternetService_Fiber optic  \\\n",
              "0                                             0.0   \n",
              "1                                             0.0   \n",
              "2                                             1.0   \n",
              "3                                             1.0   \n",
              "4                                             1.0   \n",
              "...                                           ...   \n",
              "10791                                         1.0   \n",
              "10792                                         1.0   \n",
              "10793                                         1.0   \n",
              "10794                                         0.0   \n",
              "10795                                         1.0   \n",
              "\n",
              "       onehotencoder__InternetService_No  \\\n",
              "0                               0.000000   \n",
              "1                               0.000000   \n",
              "2                               0.000000   \n",
              "3                               0.000000   \n",
              "4                               0.000000   \n",
              "...                                  ...   \n",
              "10791                           0.000000   \n",
              "10792                           0.000000   \n",
              "10793                           0.000000   \n",
              "10794                           0.215275   \n",
              "10795                           0.000000   \n",
              "\n",
              "       onehotencoder__Contract_Month-to-month  \\\n",
              "0                                         0.0   \n",
              "1                                         1.0   \n",
              "2                                         1.0   \n",
              "3                                         1.0   \n",
              "4                                         1.0   \n",
              "...                                       ...   \n",
              "10791                                     1.0   \n",
              "10792                                     1.0   \n",
              "10793                                     1.0   \n",
              "10794                                     1.0   \n",
              "10795                                     1.0   \n",
              "\n",
              "       onehotencoder__Contract_One year  onehotencoder__Contract_Two year  \\\n",
              "0                                   1.0                               0.0   \n",
              "1                                   0.0                               0.0   \n",
              "2                                   0.0                               0.0   \n",
              "3                                   0.0                               0.0   \n",
              "4                                   0.0                               0.0   \n",
              "...                                 ...                               ...   \n",
              "10791                               0.0                               0.0   \n",
              "10792                               0.0                               0.0   \n",
              "10793                               0.0                               0.0   \n",
              "10794                               0.0                               0.0   \n",
              "10795                               0.0                               0.0   \n",
              "\n",
              "       onehotencoder__PaymentMethod_Bank transfer (automatic)  \\\n",
              "0                                               0.000000        \n",
              "1                                               0.000000        \n",
              "2                                               0.000000        \n",
              "3                                               0.000000        \n",
              "4                                               0.000000        \n",
              "...                                                  ...        \n",
              "10791                                           0.000000        \n",
              "10792                                           0.000000        \n",
              "10793                                           0.000000        \n",
              "10794                                           0.215275        \n",
              "10795                                           0.000000        \n",
              "\n",
              "       onehotencoder__PaymentMethod_Credit card (automatic)  \\\n",
              "0                                               0.000000      \n",
              "1                                               0.000000      \n",
              "2                                               0.000000      \n",
              "3                                               0.000000      \n",
              "4                                               0.000000      \n",
              "...                                                  ...      \n",
              "10791                                           0.000000      \n",
              "10792                                           0.000000      \n",
              "10793                                           0.327248      \n",
              "10794                                           0.000000      \n",
              "10795                                           0.656425      \n",
              "\n",
              "       onehotencoder__PaymentMethod_Electronic check  ...  \\\n",
              "0                                           0.000000  ...   \n",
              "1                                           0.000000  ...   \n",
              "2                                           1.000000  ...   \n",
              "3                                           1.000000  ...   \n",
              "4                                           0.000000  ...   \n",
              "...                                              ...  ...   \n",
              "10791                                       1.000000  ...   \n",
              "10792                                       1.000000  ...   \n",
              "10793                                       0.672752  ...   \n",
              "10794                                       0.784725  ...   \n",
              "10795                                       0.343575  ...   \n",
              "\n",
              "       remainder__OnlineBackup  remainder__DeviceProtection  \\\n",
              "0                          1.0                     0.000000   \n",
              "1                          0.0                     0.000000   \n",
              "2                          0.0                     1.000000   \n",
              "3                          1.0                     1.000000   \n",
              "4                          0.0                     0.000000   \n",
              "...                        ...                          ...   \n",
              "10791                      0.0                     0.000000   \n",
              "10792                      0.0                     0.510837   \n",
              "10793                      0.0                     0.672752   \n",
              "10794                      0.0                     0.000000   \n",
              "10795                      0.0                     0.656425   \n",
              "\n",
              "       remainder__TechSupport  remainder__StreamingTV  \\\n",
              "0                    1.000000                1.000000   \n",
              "1                    0.000000                0.000000   \n",
              "2                    0.000000                0.000000   \n",
              "3                    0.000000                1.000000   \n",
              "4                    1.000000                1.000000   \n",
              "...                       ...                     ...   \n",
              "10791                0.000000                1.000000   \n",
              "10792                0.000000                1.000000   \n",
              "10793                0.327248                0.000000   \n",
              "10794                0.000000                0.000000   \n",
              "10795                0.343575                0.656425   \n",
              "\n",
              "       remainder__StreamingMovies  remainder__PaperlessBilling  \\\n",
              "0                        0.000000                     1.000000   \n",
              "1                        1.000000                     0.000000   \n",
              "2                        0.000000                     1.000000   \n",
              "3                        1.000000                     1.000000   \n",
              "4                        0.000000                     1.000000   \n",
              "...                           ...                          ...   \n",
              "10791                    0.000000                     1.000000   \n",
              "10792                    0.000000                     1.000000   \n",
              "10793                    0.327248                     0.327248   \n",
              "10794                    0.000000                     0.784725   \n",
              "10795                    1.000000                     1.000000   \n",
              "\n",
              "       remainder__Charges.Monthly  remainder__Charges.Total  \\\n",
              "0                       65.600000                593.300000   \n",
              "1                       59.900000                542.400000   \n",
              "2                       73.900000                280.850000   \n",
              "3                       98.000000               1237.850000   \n",
              "4                       83.900000                267.400000   \n",
              "...                           ...                       ...   \n",
              "10791                   79.322474                304.165197   \n",
              "10792                   85.191493                589.830191   \n",
              "10793                   77.999727                431.416567   \n",
              "10794                   23.696539                 86.363198   \n",
              "10795                   96.893994               1619.117318   \n",
              "\n",
              "       remainder__Cuentas_Diarias  Churn  \n",
              "0                        2.160000      0  \n",
              "1                        1.970000      0  \n",
              "2                        2.430000      1  \n",
              "3                        3.220000      1  \n",
              "4                        2.760000      1  \n",
              "...                           ...    ...  \n",
              "10791                    2.609555      1  \n",
              "10792                    2.798793      1  \n",
              "10793                    2.561082      1  \n",
              "10794                    0.776320      1  \n",
              "10795                    3.183184      1  \n",
              "\n",
              "[10796 rows x 28 columns]"
            ],
            "text/html": [
              "\n",
              "  <div id=\"df-2a424dc1-d236-4aca-a717-ec7b597dc3e9\" class=\"colab-df-container\">\n",
              "    <div>\n",
              "<style scoped>\n",
              "    .dataframe tbody tr th:only-of-type {\n",
              "        vertical-align: middle;\n",
              "    }\n",
              "\n",
              "    .dataframe tbody tr th {\n",
              "        vertical-align: top;\n",
              "    }\n",
              "\n",
              "    .dataframe thead th {\n",
              "        text-align: right;\n",
              "    }\n",
              "</style>\n",
              "<table border=\"1\" class=\"dataframe\">\n",
              "  <thead>\n",
              "    <tr style=\"text-align: right;\">\n",
              "      <th></th>\n",
              "      <th>onehotencoder__gender_Male</th>\n",
              "      <th>onehotencoder__InternetService_DSL</th>\n",
              "      <th>onehotencoder__InternetService_Fiber optic</th>\n",
              "      <th>onehotencoder__InternetService_No</th>\n",
              "      <th>onehotencoder__Contract_Month-to-month</th>\n",
              "      <th>onehotencoder__Contract_One year</th>\n",
              "      <th>onehotencoder__Contract_Two year</th>\n",
              "      <th>onehotencoder__PaymentMethod_Bank transfer (automatic)</th>\n",
              "      <th>onehotencoder__PaymentMethod_Credit card (automatic)</th>\n",
              "      <th>onehotencoder__PaymentMethod_Electronic check</th>\n",
              "      <th>...</th>\n",
              "      <th>remainder__OnlineBackup</th>\n",
              "      <th>remainder__DeviceProtection</th>\n",
              "      <th>remainder__TechSupport</th>\n",
              "      <th>remainder__StreamingTV</th>\n",
              "      <th>remainder__StreamingMovies</th>\n",
              "      <th>remainder__PaperlessBilling</th>\n",
              "      <th>remainder__Charges.Monthly</th>\n",
              "      <th>remainder__Charges.Total</th>\n",
              "      <th>remainder__Cuentas_Diarias</th>\n",
              "      <th>Churn</th>\n",
              "    </tr>\n",
              "  </thead>\n",
              "  <tbody>\n",
              "    <tr>\n",
              "      <th>0</th>\n",
              "      <td>0.000000</td>\n",
              "      <td>1.000000</td>\n",
              "      <td>0.0</td>\n",
              "      <td>0.000000</td>\n",
              "      <td>0.0</td>\n",
              "      <td>1.0</td>\n",
              "      <td>0.0</td>\n",
              "      <td>0.000000</td>\n",
              "      <td>0.000000</td>\n",
              "      <td>0.000000</td>\n",
              "      <td>...</td>\n",
              "      <td>1.0</td>\n",
              "      <td>0.000000</td>\n",
              "      <td>1.000000</td>\n",
              "      <td>1.000000</td>\n",
              "      <td>0.000000</td>\n",
              "      <td>1.000000</td>\n",
              "      <td>65.600000</td>\n",
              "      <td>593.300000</td>\n",
              "      <td>2.160000</td>\n",
              "      <td>0</td>\n",
              "    </tr>\n",
              "    <tr>\n",
              "      <th>1</th>\n",
              "      <td>1.000000</td>\n",
              "      <td>1.000000</td>\n",
              "      <td>0.0</td>\n",
              "      <td>0.000000</td>\n",
              "      <td>1.0</td>\n",
              "      <td>0.0</td>\n",
              "      <td>0.0</td>\n",
              "      <td>0.000000</td>\n",
              "      <td>0.000000</td>\n",
              "      <td>0.000000</td>\n",
              "      <td>...</td>\n",
              "      <td>0.0</td>\n",
              "      <td>0.000000</td>\n",
              "      <td>0.000000</td>\n",
              "      <td>0.000000</td>\n",
              "      <td>1.000000</td>\n",
              "      <td>0.000000</td>\n",
              "      <td>59.900000</td>\n",
              "      <td>542.400000</td>\n",
              "      <td>1.970000</td>\n",
              "      <td>0</td>\n",
              "    </tr>\n",
              "    <tr>\n",
              "      <th>2</th>\n",
              "      <td>1.000000</td>\n",
              "      <td>0.000000</td>\n",
              "      <td>1.0</td>\n",
              "      <td>0.000000</td>\n",
              "      <td>1.0</td>\n",
              "      <td>0.0</td>\n",
              "      <td>0.0</td>\n",
              "      <td>0.000000</td>\n",
              "      <td>0.000000</td>\n",
              "      <td>1.000000</td>\n",
              "      <td>...</td>\n",
              "      <td>0.0</td>\n",
              "      <td>1.000000</td>\n",
              "      <td>0.000000</td>\n",
              "      <td>0.000000</td>\n",
              "      <td>0.000000</td>\n",
              "      <td>1.000000</td>\n",
              "      <td>73.900000</td>\n",
              "      <td>280.850000</td>\n",
              "      <td>2.430000</td>\n",
              "      <td>1</td>\n",
              "    </tr>\n",
              "    <tr>\n",
              "      <th>3</th>\n",
              "      <td>1.000000</td>\n",
              "      <td>0.000000</td>\n",
              "      <td>1.0</td>\n",
              "      <td>0.000000</td>\n",
              "      <td>1.0</td>\n",
              "      <td>0.0</td>\n",
              "      <td>0.0</td>\n",
              "      <td>0.000000</td>\n",
              "      <td>0.000000</td>\n",
              "      <td>1.000000</td>\n",
              "      <td>...</td>\n",
              "      <td>1.0</td>\n",
              "      <td>1.000000</td>\n",
              "      <td>0.000000</td>\n",
              "      <td>1.000000</td>\n",
              "      <td>1.000000</td>\n",
              "      <td>1.000000</td>\n",
              "      <td>98.000000</td>\n",
              "      <td>1237.850000</td>\n",
              "      <td>3.220000</td>\n",
              "      <td>1</td>\n",
              "    </tr>\n",
              "    <tr>\n",
              "      <th>4</th>\n",
              "      <td>0.000000</td>\n",
              "      <td>0.000000</td>\n",
              "      <td>1.0</td>\n",
              "      <td>0.000000</td>\n",
              "      <td>1.0</td>\n",
              "      <td>0.0</td>\n",
              "      <td>0.0</td>\n",
              "      <td>0.000000</td>\n",
              "      <td>0.000000</td>\n",
              "      <td>0.000000</td>\n",
              "      <td>...</td>\n",
              "      <td>0.0</td>\n",
              "      <td>0.000000</td>\n",
              "      <td>1.000000</td>\n",
              "      <td>1.000000</td>\n",
              "      <td>0.000000</td>\n",
              "      <td>1.000000</td>\n",
              "      <td>83.900000</td>\n",
              "      <td>267.400000</td>\n",
              "      <td>2.760000</td>\n",
              "      <td>1</td>\n",
              "    </tr>\n",
              "    <tr>\n",
              "      <th>...</th>\n",
              "      <td>...</td>\n",
              "      <td>...</td>\n",
              "      <td>...</td>\n",
              "      <td>...</td>\n",
              "      <td>...</td>\n",
              "      <td>...</td>\n",
              "      <td>...</td>\n",
              "      <td>...</td>\n",
              "      <td>...</td>\n",
              "      <td>...</td>\n",
              "      <td>...</td>\n",
              "      <td>...</td>\n",
              "      <td>...</td>\n",
              "      <td>...</td>\n",
              "      <td>...</td>\n",
              "      <td>...</td>\n",
              "      <td>...</td>\n",
              "      <td>...</td>\n",
              "      <td>...</td>\n",
              "      <td>...</td>\n",
              "      <td>...</td>\n",
              "    </tr>\n",
              "    <tr>\n",
              "      <th>10791</th>\n",
              "      <td>0.238870</td>\n",
              "      <td>0.000000</td>\n",
              "      <td>1.0</td>\n",
              "      <td>0.000000</td>\n",
              "      <td>1.0</td>\n",
              "      <td>0.0</td>\n",
              "      <td>0.0</td>\n",
              "      <td>0.000000</td>\n",
              "      <td>0.000000</td>\n",
              "      <td>1.000000</td>\n",
              "      <td>...</td>\n",
              "      <td>0.0</td>\n",
              "      <td>0.000000</td>\n",
              "      <td>0.000000</td>\n",
              "      <td>1.000000</td>\n",
              "      <td>0.000000</td>\n",
              "      <td>1.000000</td>\n",
              "      <td>79.322474</td>\n",
              "      <td>304.165197</td>\n",
              "      <td>2.609555</td>\n",
              "      <td>1</td>\n",
              "    </tr>\n",
              "    <tr>\n",
              "      <th>10792</th>\n",
              "      <td>0.510837</td>\n",
              "      <td>0.000000</td>\n",
              "      <td>1.0</td>\n",
              "      <td>0.000000</td>\n",
              "      <td>1.0</td>\n",
              "      <td>0.0</td>\n",
              "      <td>0.0</td>\n",
              "      <td>0.000000</td>\n",
              "      <td>0.000000</td>\n",
              "      <td>1.000000</td>\n",
              "      <td>...</td>\n",
              "      <td>0.0</td>\n",
              "      <td>0.510837</td>\n",
              "      <td>0.000000</td>\n",
              "      <td>1.000000</td>\n",
              "      <td>0.000000</td>\n",
              "      <td>1.000000</td>\n",
              "      <td>85.191493</td>\n",
              "      <td>589.830191</td>\n",
              "      <td>2.798793</td>\n",
              "      <td>1</td>\n",
              "    </tr>\n",
              "    <tr>\n",
              "      <th>10793</th>\n",
              "      <td>0.000000</td>\n",
              "      <td>0.000000</td>\n",
              "      <td>1.0</td>\n",
              "      <td>0.000000</td>\n",
              "      <td>1.0</td>\n",
              "      <td>0.0</td>\n",
              "      <td>0.0</td>\n",
              "      <td>0.000000</td>\n",
              "      <td>0.327248</td>\n",
              "      <td>0.672752</td>\n",
              "      <td>...</td>\n",
              "      <td>0.0</td>\n",
              "      <td>0.672752</td>\n",
              "      <td>0.327248</td>\n",
              "      <td>0.000000</td>\n",
              "      <td>0.327248</td>\n",
              "      <td>0.327248</td>\n",
              "      <td>77.999727</td>\n",
              "      <td>431.416567</td>\n",
              "      <td>2.561082</td>\n",
              "      <td>1</td>\n",
              "    </tr>\n",
              "    <tr>\n",
              "      <th>10794</th>\n",
              "      <td>0.000000</td>\n",
              "      <td>0.784725</td>\n",
              "      <td>0.0</td>\n",
              "      <td>0.215275</td>\n",
              "      <td>1.0</td>\n",
              "      <td>0.0</td>\n",
              "      <td>0.0</td>\n",
              "      <td>0.215275</td>\n",
              "      <td>0.000000</td>\n",
              "      <td>0.784725</td>\n",
              "      <td>...</td>\n",
              "      <td>0.0</td>\n",
              "      <td>0.000000</td>\n",
              "      <td>0.000000</td>\n",
              "      <td>0.000000</td>\n",
              "      <td>0.000000</td>\n",
              "      <td>0.784725</td>\n",
              "      <td>23.696539</td>\n",
              "      <td>86.363198</td>\n",
              "      <td>0.776320</td>\n",
              "      <td>1</td>\n",
              "    </tr>\n",
              "    <tr>\n",
              "      <th>10795</th>\n",
              "      <td>0.656425</td>\n",
              "      <td>0.000000</td>\n",
              "      <td>1.0</td>\n",
              "      <td>0.000000</td>\n",
              "      <td>1.0</td>\n",
              "      <td>0.0</td>\n",
              "      <td>0.0</td>\n",
              "      <td>0.000000</td>\n",
              "      <td>0.656425</td>\n",
              "      <td>0.343575</td>\n",
              "      <td>...</td>\n",
              "      <td>0.0</td>\n",
              "      <td>0.656425</td>\n",
              "      <td>0.343575</td>\n",
              "      <td>0.656425</td>\n",
              "      <td>1.000000</td>\n",
              "      <td>1.000000</td>\n",
              "      <td>96.893994</td>\n",
              "      <td>1619.117318</td>\n",
              "      <td>3.183184</td>\n",
              "      <td>1</td>\n",
              "    </tr>\n",
              "  </tbody>\n",
              "</table>\n",
              "<p>10796 rows × 28 columns</p>\n",
              "</div>\n",
              "    <div class=\"colab-df-buttons\">\n",
              "\n",
              "  <div class=\"colab-df-container\">\n",
              "    <button class=\"colab-df-convert\" onclick=\"convertToInteractive('df-2a424dc1-d236-4aca-a717-ec7b597dc3e9')\"\n",
              "            title=\"Convert this dataframe to an interactive table.\"\n",
              "            style=\"display:none;\">\n",
              "\n",
              "  <svg xmlns=\"http://www.w3.org/2000/svg\" height=\"24px\" viewBox=\"0 -960 960 960\">\n",
              "    <path d=\"M120-120v-720h720v720H120Zm60-500h600v-160H180v160Zm220 220h160v-160H400v160Zm0 220h160v-160H400v160ZM180-400h160v-160H180v160Zm440 0h160v-160H620v160ZM180-180h160v-160H180v160Zm440 0h160v-160H620v160Z\"/>\n",
              "  </svg>\n",
              "    </button>\n",
              "\n",
              "  <style>\n",
              "    .colab-df-container {\n",
              "      display:flex;\n",
              "      gap: 12px;\n",
              "    }\n",
              "\n",
              "    .colab-df-convert {\n",
              "      background-color: #E8F0FE;\n",
              "      border: none;\n",
              "      border-radius: 50%;\n",
              "      cursor: pointer;\n",
              "      display: none;\n",
              "      fill: #1967D2;\n",
              "      height: 32px;\n",
              "      padding: 0 0 0 0;\n",
              "      width: 32px;\n",
              "    }\n",
              "\n",
              "    .colab-df-convert:hover {\n",
              "      background-color: #E2EBFA;\n",
              "      box-shadow: 0px 1px 2px rgba(60, 64, 67, 0.3), 0px 1px 3px 1px rgba(60, 64, 67, 0.15);\n",
              "      fill: #174EA6;\n",
              "    }\n",
              "\n",
              "    .colab-df-buttons div {\n",
              "      margin-bottom: 4px;\n",
              "    }\n",
              "\n",
              "    [theme=dark] .colab-df-convert {\n",
              "      background-color: #3B4455;\n",
              "      fill: #D2E3FC;\n",
              "    }\n",
              "\n",
              "    [theme=dark] .colab-df-convert:hover {\n",
              "      background-color: #434B5C;\n",
              "      box-shadow: 0px 1px 3px 1px rgba(0, 0, 0, 0.15);\n",
              "      filter: drop-shadow(0px 1px 2px rgba(0, 0, 0, 0.3));\n",
              "      fill: #FFFFFF;\n",
              "    }\n",
              "  </style>\n",
              "\n",
              "    <script>\n",
              "      const buttonEl =\n",
              "        document.querySelector('#df-2a424dc1-d236-4aca-a717-ec7b597dc3e9 button.colab-df-convert');\n",
              "      buttonEl.style.display =\n",
              "        google.colab.kernel.accessAllowed ? 'block' : 'none';\n",
              "\n",
              "      async function convertToInteractive(key) {\n",
              "        const element = document.querySelector('#df-2a424dc1-d236-4aca-a717-ec7b597dc3e9');\n",
              "        const dataTable =\n",
              "          await google.colab.kernel.invokeFunction('convertToInteractive',\n",
              "                                                    [key], {});\n",
              "        if (!dataTable) return;\n",
              "\n",
              "        const docLinkHtml = 'Like what you see? Visit the ' +\n",
              "          '<a target=\"_blank\" href=https://colab.research.google.com/notebooks/data_table.ipynb>data table notebook</a>'\n",
              "          + ' to learn more about interactive tables.';\n",
              "        element.innerHTML = '';\n",
              "        dataTable['output_type'] = 'display_data';\n",
              "        await google.colab.output.renderOutput(dataTable, element);\n",
              "        const docLink = document.createElement('div');\n",
              "        docLink.innerHTML = docLinkHtml;\n",
              "        element.appendChild(docLink);\n",
              "      }\n",
              "    </script>\n",
              "  </div>\n",
              "\n",
              "\n",
              "    <div id=\"df-b391390b-8b6b-4492-8c38-91be2fa28743\">\n",
              "      <button class=\"colab-df-quickchart\" onclick=\"quickchart('df-b391390b-8b6b-4492-8c38-91be2fa28743')\"\n",
              "                title=\"Suggest charts\"\n",
              "                style=\"display:none;\">\n",
              "\n",
              "<svg xmlns=\"http://www.w3.org/2000/svg\" height=\"24px\"viewBox=\"0 0 24 24\"\n",
              "     width=\"24px\">\n",
              "    <g>\n",
              "        <path d=\"M19 3H5c-1.1 0-2 .9-2 2v14c0 1.1.9 2 2 2h14c1.1 0 2-.9 2-2V5c0-1.1-.9-2-2-2zM9 17H7v-7h2v7zm4 0h-2V7h2v10zm4 0h-2v-4h2v4z\"/>\n",
              "    </g>\n",
              "</svg>\n",
              "      </button>\n",
              "\n",
              "<style>\n",
              "  .colab-df-quickchart {\n",
              "      --bg-color: #E8F0FE;\n",
              "      --fill-color: #1967D2;\n",
              "      --hover-bg-color: #E2EBFA;\n",
              "      --hover-fill-color: #174EA6;\n",
              "      --disabled-fill-color: #AAA;\n",
              "      --disabled-bg-color: #DDD;\n",
              "  }\n",
              "\n",
              "  [theme=dark] .colab-df-quickchart {\n",
              "      --bg-color: #3B4455;\n",
              "      --fill-color: #D2E3FC;\n",
              "      --hover-bg-color: #434B5C;\n",
              "      --hover-fill-color: #FFFFFF;\n",
              "      --disabled-bg-color: #3B4455;\n",
              "      --disabled-fill-color: #666;\n",
              "  }\n",
              "\n",
              "  .colab-df-quickchart {\n",
              "    background-color: var(--bg-color);\n",
              "    border: none;\n",
              "    border-radius: 50%;\n",
              "    cursor: pointer;\n",
              "    display: none;\n",
              "    fill: var(--fill-color);\n",
              "    height: 32px;\n",
              "    padding: 0;\n",
              "    width: 32px;\n",
              "  }\n",
              "\n",
              "  .colab-df-quickchart:hover {\n",
              "    background-color: var(--hover-bg-color);\n",
              "    box-shadow: 0 1px 2px rgba(60, 64, 67, 0.3), 0 1px 3px 1px rgba(60, 64, 67, 0.15);\n",
              "    fill: var(--button-hover-fill-color);\n",
              "  }\n",
              "\n",
              "  .colab-df-quickchart-complete:disabled,\n",
              "  .colab-df-quickchart-complete:disabled:hover {\n",
              "    background-color: var(--disabled-bg-color);\n",
              "    fill: var(--disabled-fill-color);\n",
              "    box-shadow: none;\n",
              "  }\n",
              "\n",
              "  .colab-df-spinner {\n",
              "    border: 2px solid var(--fill-color);\n",
              "    border-color: transparent;\n",
              "    border-bottom-color: var(--fill-color);\n",
              "    animation:\n",
              "      spin 1s steps(1) infinite;\n",
              "  }\n",
              "\n",
              "  @keyframes spin {\n",
              "    0% {\n",
              "      border-color: transparent;\n",
              "      border-bottom-color: var(--fill-color);\n",
              "      border-left-color: var(--fill-color);\n",
              "    }\n",
              "    20% {\n",
              "      border-color: transparent;\n",
              "      border-left-color: var(--fill-color);\n",
              "      border-top-color: var(--fill-color);\n",
              "    }\n",
              "    30% {\n",
              "      border-color: transparent;\n",
              "      border-left-color: var(--fill-color);\n",
              "      border-top-color: var(--fill-color);\n",
              "      border-right-color: var(--fill-color);\n",
              "    }\n",
              "    40% {\n",
              "      border-color: transparent;\n",
              "      border-right-color: var(--fill-color);\n",
              "      border-top-color: var(--fill-color);\n",
              "    }\n",
              "    60% {\n",
              "      border-color: transparent;\n",
              "      border-right-color: var(--fill-color);\n",
              "    }\n",
              "    80% {\n",
              "      border-color: transparent;\n",
              "      border-right-color: var(--fill-color);\n",
              "      border-bottom-color: var(--fill-color);\n",
              "    }\n",
              "    90% {\n",
              "      border-color: transparent;\n",
              "      border-bottom-color: var(--fill-color);\n",
              "    }\n",
              "  }\n",
              "</style>\n",
              "\n",
              "      <script>\n",
              "        async function quickchart(key) {\n",
              "          const quickchartButtonEl =\n",
              "            document.querySelector('#' + key + ' button');\n",
              "          quickchartButtonEl.disabled = true;  // To prevent multiple clicks.\n",
              "          quickchartButtonEl.classList.add('colab-df-spinner');\n",
              "          try {\n",
              "            const charts = await google.colab.kernel.invokeFunction(\n",
              "                'suggestCharts', [key], {});\n",
              "          } catch (error) {\n",
              "            console.error('Error during call to suggestCharts:', error);\n",
              "          }\n",
              "          quickchartButtonEl.classList.remove('colab-df-spinner');\n",
              "          quickchartButtonEl.classList.add('colab-df-quickchart-complete');\n",
              "        }\n",
              "        (() => {\n",
              "          let quickchartButtonEl =\n",
              "            document.querySelector('#df-b391390b-8b6b-4492-8c38-91be2fa28743 button');\n",
              "          quickchartButtonEl.style.display =\n",
              "            google.colab.kernel.accessAllowed ? 'block' : 'none';\n",
              "        })();\n",
              "      </script>\n",
              "    </div>\n",
              "\n",
              "  <div id=\"id_5c29a3a7-4ac3-4f50-be0f-7996cc4326d6\">\n",
              "    <style>\n",
              "      .colab-df-generate {\n",
              "        background-color: #E8F0FE;\n",
              "        border: none;\n",
              "        border-radius: 50%;\n",
              "        cursor: pointer;\n",
              "        display: none;\n",
              "        fill: #1967D2;\n",
              "        height: 32px;\n",
              "        padding: 0 0 0 0;\n",
              "        width: 32px;\n",
              "      }\n",
              "\n",
              "      .colab-df-generate:hover {\n",
              "        background-color: #E2EBFA;\n",
              "        box-shadow: 0px 1px 2px rgba(60, 64, 67, 0.3), 0px 1px 3px 1px rgba(60, 64, 67, 0.15);\n",
              "        fill: #174EA6;\n",
              "      }\n",
              "\n",
              "      [theme=dark] .colab-df-generate {\n",
              "        background-color: #3B4455;\n",
              "        fill: #D2E3FC;\n",
              "      }\n",
              "\n",
              "      [theme=dark] .colab-df-generate:hover {\n",
              "        background-color: #434B5C;\n",
              "        box-shadow: 0px 1px 3px 1px rgba(0, 0, 0, 0.15);\n",
              "        filter: drop-shadow(0px 1px 2px rgba(0, 0, 0, 0.3));\n",
              "        fill: #FFFFFF;\n",
              "      }\n",
              "    </style>\n",
              "    <button class=\"colab-df-generate\" onclick=\"generateWithVariable('datosOneHotEncoder')\"\n",
              "            title=\"Generate code using this dataframe.\"\n",
              "            style=\"display:none;\">\n",
              "\n",
              "  <svg xmlns=\"http://www.w3.org/2000/svg\" height=\"24px\"viewBox=\"0 0 24 24\"\n",
              "       width=\"24px\">\n",
              "    <path d=\"M7,19H8.4L18.45,9,17,7.55,7,17.6ZM5,21V16.75L18.45,3.32a2,2,0,0,1,2.83,0l1.4,1.43a1.91,1.91,0,0,1,.58,1.4,1.91,1.91,0,0,1-.58,1.4L9.25,21ZM18.45,9,17,7.55Zm-12,3A5.31,5.31,0,0,0,4.9,8.1,5.31,5.31,0,0,0,1,6.5,5.31,5.31,0,0,0,4.9,4.9,5.31,5.31,0,0,0,6.5,1,5.31,5.31,0,0,0,8.1,4.9,5.31,5.31,0,0,0,12,6.5,5.46,5.46,0,0,0,6.5,12Z\"/>\n",
              "  </svg>\n",
              "    </button>\n",
              "    <script>\n",
              "      (() => {\n",
              "      const buttonEl =\n",
              "        document.querySelector('#id_5c29a3a7-4ac3-4f50-be0f-7996cc4326d6 button.colab-df-generate');\n",
              "      buttonEl.style.display =\n",
              "        google.colab.kernel.accessAllowed ? 'block' : 'none';\n",
              "\n",
              "      buttonEl.onclick = () => {\n",
              "        google.colab.notebook.generateWithVariable('datosOneHotEncoder');\n",
              "      }\n",
              "      })();\n",
              "    </script>\n",
              "  </div>\n",
              "\n",
              "    </div>\n",
              "  </div>\n"
            ],
            "application/vnd.google.colaboratory.intrinsic+json": {
              "type": "dataframe",
              "variable_name": "datosOneHotEncoder"
            }
          },
          "metadata": {},
          "execution_count": 47
        }
      ]
    },
    {
      "cell_type": "code",
      "source": [
        "datosOHE=datosOneHotEncoder.corr()\n",
        "datosOHE['Churn']"
      ],
      "metadata": {
        "colab": {
          "base_uri": "https://localhost:8080/",
          "height": 962
        },
        "id": "zPDDgvlMtzkz",
        "outputId": "13f3440e-8f7a-4286-f6d1-86497fd35053"
      },
      "execution_count": 48,
      "outputs": [
        {
          "output_type": "execute_result",
          "data": {
            "text/plain": [
              "onehotencoder__gender_Male                               -0.004096\n",
              "onehotencoder__InternetService_DSL                       -0.149141\n",
              "onehotencoder__InternetService_Fiber optic                0.352041\n",
              "onehotencoder__InternetService_No                        -0.286621\n",
              "onehotencoder__Contract_Month-to-month                    0.486663\n",
              "onehotencoder__Contract_One year                         -0.225887\n",
              "onehotencoder__Contract_Two year                         -0.386768\n",
              "onehotencoder__PaymentMethod_Bank transfer (automatic)   -0.145826\n",
              "onehotencoder__PaymentMethod_Credit card (automatic)     -0.170433\n",
              "onehotencoder__PaymentMethod_Electronic check             0.346340\n",
              "onehotencoder__PaymentMethod_Mailed check                -0.112233\n",
              "remainder__SeniorCitizen                                  0.159195\n",
              "remainder__Partner                                       -0.184348\n",
              "remainder__Dependents                                    -0.201777\n",
              "remainder__tenure                                        -0.407395\n",
              "remainder__PhoneService                                   0.027618\n",
              "remainder__MultipleLines                                  0.047681\n",
              "remainder__OnlineSecurity                                -0.211234\n",
              "remainder__OnlineBackup                                  -0.100936\n",
              "remainder__DeviceProtection                              -0.083679\n",
              "remainder__TechSupport                                   -0.205628\n",
              "remainder__StreamingTV                                    0.074527\n",
              "remainder__StreamingMovies                                0.067920\n",
              "remainder__PaperlessBilling                               0.233377\n",
              "remainder__Charges.Monthly                                0.232185\n",
              "remainder__Charges.Total                                 -0.230048\n",
              "remainder__Cuentas_Diarias                                0.232108\n",
              "Churn                                                     1.000000\n",
              "Name: Churn, dtype: float64"
            ],
            "text/html": [
              "<div>\n",
              "<style scoped>\n",
              "    .dataframe tbody tr th:only-of-type {\n",
              "        vertical-align: middle;\n",
              "    }\n",
              "\n",
              "    .dataframe tbody tr th {\n",
              "        vertical-align: top;\n",
              "    }\n",
              "\n",
              "    .dataframe thead th {\n",
              "        text-align: right;\n",
              "    }\n",
              "</style>\n",
              "<table border=\"1\" class=\"dataframe\">\n",
              "  <thead>\n",
              "    <tr style=\"text-align: right;\">\n",
              "      <th></th>\n",
              "      <th>Churn</th>\n",
              "    </tr>\n",
              "  </thead>\n",
              "  <tbody>\n",
              "    <tr>\n",
              "      <th>onehotencoder__gender_Male</th>\n",
              "      <td>-0.004096</td>\n",
              "    </tr>\n",
              "    <tr>\n",
              "      <th>onehotencoder__InternetService_DSL</th>\n",
              "      <td>-0.149141</td>\n",
              "    </tr>\n",
              "    <tr>\n",
              "      <th>onehotencoder__InternetService_Fiber optic</th>\n",
              "      <td>0.352041</td>\n",
              "    </tr>\n",
              "    <tr>\n",
              "      <th>onehotencoder__InternetService_No</th>\n",
              "      <td>-0.286621</td>\n",
              "    </tr>\n",
              "    <tr>\n",
              "      <th>onehotencoder__Contract_Month-to-month</th>\n",
              "      <td>0.486663</td>\n",
              "    </tr>\n",
              "    <tr>\n",
              "      <th>onehotencoder__Contract_One year</th>\n",
              "      <td>-0.225887</td>\n",
              "    </tr>\n",
              "    <tr>\n",
              "      <th>onehotencoder__Contract_Two year</th>\n",
              "      <td>-0.386768</td>\n",
              "    </tr>\n",
              "    <tr>\n",
              "      <th>onehotencoder__PaymentMethod_Bank transfer (automatic)</th>\n",
              "      <td>-0.145826</td>\n",
              "    </tr>\n",
              "    <tr>\n",
              "      <th>onehotencoder__PaymentMethod_Credit card (automatic)</th>\n",
              "      <td>-0.170433</td>\n",
              "    </tr>\n",
              "    <tr>\n",
              "      <th>onehotencoder__PaymentMethod_Electronic check</th>\n",
              "      <td>0.346340</td>\n",
              "    </tr>\n",
              "    <tr>\n",
              "      <th>onehotencoder__PaymentMethod_Mailed check</th>\n",
              "      <td>-0.112233</td>\n",
              "    </tr>\n",
              "    <tr>\n",
              "      <th>remainder__SeniorCitizen</th>\n",
              "      <td>0.159195</td>\n",
              "    </tr>\n",
              "    <tr>\n",
              "      <th>remainder__Partner</th>\n",
              "      <td>-0.184348</td>\n",
              "    </tr>\n",
              "    <tr>\n",
              "      <th>remainder__Dependents</th>\n",
              "      <td>-0.201777</td>\n",
              "    </tr>\n",
              "    <tr>\n",
              "      <th>remainder__tenure</th>\n",
              "      <td>-0.407395</td>\n",
              "    </tr>\n",
              "    <tr>\n",
              "      <th>remainder__PhoneService</th>\n",
              "      <td>0.027618</td>\n",
              "    </tr>\n",
              "    <tr>\n",
              "      <th>remainder__MultipleLines</th>\n",
              "      <td>0.047681</td>\n",
              "    </tr>\n",
              "    <tr>\n",
              "      <th>remainder__OnlineSecurity</th>\n",
              "      <td>-0.211234</td>\n",
              "    </tr>\n",
              "    <tr>\n",
              "      <th>remainder__OnlineBackup</th>\n",
              "      <td>-0.100936</td>\n",
              "    </tr>\n",
              "    <tr>\n",
              "      <th>remainder__DeviceProtection</th>\n",
              "      <td>-0.083679</td>\n",
              "    </tr>\n",
              "    <tr>\n",
              "      <th>remainder__TechSupport</th>\n",
              "      <td>-0.205628</td>\n",
              "    </tr>\n",
              "    <tr>\n",
              "      <th>remainder__StreamingTV</th>\n",
              "      <td>0.074527</td>\n",
              "    </tr>\n",
              "    <tr>\n",
              "      <th>remainder__StreamingMovies</th>\n",
              "      <td>0.067920</td>\n",
              "    </tr>\n",
              "    <tr>\n",
              "      <th>remainder__PaperlessBilling</th>\n",
              "      <td>0.233377</td>\n",
              "    </tr>\n",
              "    <tr>\n",
              "      <th>remainder__Charges.Monthly</th>\n",
              "      <td>0.232185</td>\n",
              "    </tr>\n",
              "    <tr>\n",
              "      <th>remainder__Charges.Total</th>\n",
              "      <td>-0.230048</td>\n",
              "    </tr>\n",
              "    <tr>\n",
              "      <th>remainder__Cuentas_Diarias</th>\n",
              "      <td>0.232108</td>\n",
              "    </tr>\n",
              "    <tr>\n",
              "      <th>Churn</th>\n",
              "      <td>1.000000</td>\n",
              "    </tr>\n",
              "  </tbody>\n",
              "</table>\n",
              "</div><br><label><b>dtype:</b> float64</label>"
            ]
          },
          "metadata": {},
          "execution_count": 48
        }
      ]
    },
    {
      "cell_type": "code",
      "source": [
        "variables_correlacionadas = [\n",
        "    \"onehotencoder__Contract_Month-to-month\",       # Positiva (0.48)\n",
        "    \"remainder__tenure\",                           # Negativa (-0.40)\n",
        "    \"onehotencoder__Contract_Two year\",            # Negativa (-0.39)\n",
        "    \"onehotencoder__InternetService_Fiber optic\",  # Positiva (0.36)\n",
        "    \"onehotencoder__PaymentMethod_Electronic check\", # Positiva (0.34)\n",
        "    \"onehotencoder__InternetService_No\",           # Negativa (-0.29)\n",
        "    \"onehotencoder__Contract_One year\",            # Negativa (-0.22)\n",
        "    \"remainder__Charges.Monthly\",                  # Positiva (0.24)\n",
        "    \"remainder__Cuentas_Diarias\",                  # Positiva (0.24)\n",
        "    \"remainder__Dependents\",                       # Negativa (-0.21)\n",
        "    \"remainder__TechSupport\",                      # Negativa (-0.21)\n",
        "    \"remainder__OnlineSecurity\",                   # Negativa (-0.21)\n",
        "    \"remainder__PaperlessBilling\",                 # Positiva (0.23)\n",
        "    \"remainder__Partner\",                          # Negativa (-0.18)\n",
        "    \"remainder__SeniorCitizen\"                     # Positiva (0.17)\n",
        "]"
      ],
      "metadata": {
        "id": "3KvbxIPSt2dm"
      },
      "execution_count": 50,
      "outputs": []
    },
    {
      "cell_type": "markdown",
      "source": [
        "## Analisis Dirigido"
      ],
      "metadata": {
        "id": "UufLXItNton0"
      }
    },
    {
      "cell_type": "code",
      "source": [
        "def ancho_bin(df,columna):\n",
        "  q75,q25 = np.percentile(df[columna],[75,25])\n",
        "  iqr = q75-q25\n",
        "  ancho = 2 * iqr * np.power(len(df[columna]), -1/3)\n",
        "  return int(ancho)"
      ],
      "metadata": {
        "id": "od5EpbBJt-9f"
      },
      "execution_count": 51,
      "outputs": []
    },
    {
      "cell_type": "code",
      "source": [
        "datos_churn = datos[datos['Churn'] == 1]\n",
        "\n",
        "bin=ancho_bin(datos_churn,'tenure')\n",
        "plt.figure(figsize=(10, 6))\n",
        "sns.histplot(data=datos_churn, x='tenure', kde=True, bins=bin, color='tomato')\n",
        "plt.title(\"Distribución de churn por contrato\")\n",
        "plt.xlabel(\"Tiempo de contrato\")\n",
        "plt.ylabel(\"Frecuencia de churn\")\n",
        "plt.show()"
      ],
      "metadata": {
        "colab": {
          "base_uri": "https://localhost:8080/",
          "height": 565
        },
        "id": "CmNac3gYtdIl",
        "outputId": "fcde217f-a26f-483b-d04e-b515adeb0fb5"
      },
      "execution_count": 55,
      "outputs": [
        {
          "output_type": "display_data",
          "data": {
            "text/plain": [
              "<Figure size 1000x600 with 1 Axes>"
            ],
            "image/png": "[encoded data removed]"
          },
          "metadata": {}
        }
      ]
    },
    {
      "cell_type": "code",
      "source": [
        "plt.figure(figsize=(10, 6))\n",
        "sns.histplot(\n",
        "    data=datos,\n",
        "    x='Charges.Monthly',\n",
        "    hue='Churn',\n",
        "    kde=True,\n",
        "    bins='auto',\n",
        "    palette={0: 'green', 1: 'blue'},\n",
        "    alpha=0.6,\n",
        "    multiple='layer'\n",
        ")\n",
        "plt.title(\"Distribución de Gasto Mensual por Churn\", pad=20)\n",
        "plt.xlabel(\"Gasto Mensual (USD)\")\n",
        "plt.ylabel(\"Número de Clientes\")\n",
        "plt.grid(axis='y', alpha=0.3)\n",
        "plt.show()"
      ],
      "metadata": {
        "colab": {
          "base_uri": "https://localhost:8080/",
          "height": 584
        },
        "id": "u8l-hk0EuDzt",
        "outputId": "7a4601a7-7ec4-40cd-94ed-390dcf592a70"
      },
      "execution_count": 57,
      "outputs": [
        {
          "output_type": "display_data",
          "data": {
            "text/plain": [
              "<Figure size 1000x600 with 1 Axes>"
            ],
            "image/png": "[encoded data removed]"
          },
          "metadata": {}
        }
      ]
    },
    {
      "cell_type": "code",
      "source": [
        "plt.figure(figsize=(10, 6))\n",
        "sns.barplot(x='Contract', y='Churn', data=datos, errorbar=None)\n",
        "plt.title(\"Tasa de Cancelación por Tipo de Contrato\")\n",
        "plt.xlabel(\"Tipo de Contrato\")\n",
        "plt.ylabel(\"Tasa de Churn (0 = No, 1 = Sí)\")\n",
        "plt.show()"
      ],
      "metadata": {
        "colab": {
          "base_uri": "https://localhost:8080/",
          "height": 565
        },
        "id": "msz45bD_uWsp",
        "outputId": "6016dc63-0d07-4eb0-e3f7-6d99bd34c953"
      },
      "execution_count": 67,
      "outputs": [
        {
          "output_type": "display_data",
          "data": {
            "text/plain": [
              "<Figure size 1000x600 with 1 Axes>"
            ],
            "image/png": "[encoded data removed]"
          },
          "metadata": {}
        }
      ]
    },
    {
      "cell_type": "code",
      "source": [
        "bin=ancho_bin(datos,'Charges.Total')\n",
        "plt.figure(figsize=(10, 6))\n",
        "sns.histplot(data=datos, x='Charges.Total', hue='Churn', kde=True, bins='auto',palette={0: 'green', 1: 'blue'})\n",
        "plt.title(\"Distribución de Gasto Total por Estado de Churn\")\n",
        "plt.xlabel(\"Gasto Total (USD)\")\n",
        "plt.ylabel(\"Frecuencia de churn\")\n",
        "plt.show()"
      ],
      "metadata": {
        "colab": {
          "base_uri": "https://localhost:8080/",
          "height": 565
        },
        "id": "5esAINy2wMCu",
        "outputId": "968d45ac-f02d-4e14-c9dc-75ee4e1bf880"
      },
      "execution_count": 69,
      "outputs": [
        {
          "output_type": "display_data",
          "data": {
            "text/plain": [
              "<Figure size 1000x600 with 1 Axes>"
            ],
            "image/png": "[encoded data removed]"
          },
          "metadata": {}
        }
      ]
    },
    {
      "cell_type": "markdown",
      "source": [
        "#🤖 Modelado Predictivo"
      ],
      "metadata": {
        "id": "-34pLW0qweHX"
      }
    },
    {
      "cell_type": "markdown",
      "source": [
        "##Separacion de Datos"
      ],
      "metadata": {
        "id": "0of_-j81wjh1"
      }
    },
    {
      "cell_type": "code",
      "source": [
        "x_over.shape"
      ],
      "metadata": {
        "colab": {
          "base_uri": "https://localhost:8080/"
        },
        "id": "stmvFdXgwoh3",
        "outputId": "f8bfb7e3-f171-4e20-b198-6d61355e723a"
      },
      "execution_count": 70,
      "outputs": [
        {
          "output_type": "execute_result",
          "data": {
            "text/plain": [
              "(10796, 27)"
            ]
          },
          "metadata": {},
          "execution_count": 70
        }
      ]
    },
    {
      "cell_type": "code",
      "source": [
        "label_encoder = LabelEncoder()\n",
        "y=label_encoder.fit_transform(y_over)\n",
        "y"
      ],
      "metadata": {
        "colab": {
          "base_uri": "https://localhost:8080/"
        },
        "id": "xqi8gN6Dw8Ju",
        "outputId": "aefb1e3b-7f3d-43dd-f2ce-d3a6492d52a8"
      },
      "execution_count": 71,
      "outputs": [
        {
          "output_type": "execute_result",
          "data": {
            "text/plain": [
              "array([0, 0, 1, ..., 1, 1, 1])"
            ]
          },
          "metadata": {},
          "execution_count": 71
        }
      ]
    },
    {
      "cell_type": "markdown",
      "source": [
        "##Creacion de Modelos"
      ],
      "metadata": {
        "id": "alcWMLjOwlbp"
      }
    },
    {
      "cell_type": "markdown",
      "source": [
        "##Modelo Dummy"
      ],
      "metadata": {
        "id": "aidIO7wqxE2F"
      }
    },
    {
      "cell_type": "code",
      "source": [
        "x_trainDummy, x_testDummy, y_trainDummy, y_testDummy = train_test_split(x_over, y, test_size=0.2, random_state=42,stratify=y_over)"
      ],
      "metadata": {
        "id": "v7q8i1CWxKS3"
      },
      "execution_count": 74,
      "outputs": []
    },
    {
      "cell_type": "code",
      "source": [
        "baseline=DummyClassifier()\n",
        "baseline.fit(x_trainDummy, y_trainDummy)\n",
        "\n",
        "\n",
        "baseline.score(x_testDummy, y_testDummy)"
      ],
      "metadata": {
        "colab": {
          "base_uri": "https://localhost:8080/"
        },
        "id": "YB82HZemxNL1",
        "outputId": "c6fd78e1-472b-475f-caae-ac3ca4af977b"
      },
      "execution_count": 75,
      "outputs": [
        {
          "output_type": "execute_result",
          "data": {
            "text/plain": [
              "0.5"
            ]
          },
          "metadata": {},
          "execution_count": 75
        }
      ]
    },
    {
      "cell_type": "markdown",
      "source": [
        "###Modelo Random Forest Classifier"
      ],
      "metadata": {
        "id": "R0Hzu_UcxOKA"
      }
    },
    {
      "cell_type": "code",
      "source": [
        "x_trainRFC, x_testRFC, y_trainRFC, y_testRFC = train_test_split(x_over, y, test_size=0.2, random_state=42,stratify=y_over)"
      ],
      "metadata": {
        "id": "Fw7aAGcTwnhq"
      },
      "execution_count": 72,
      "outputs": []
    },
    {
      "cell_type": "code",
      "source": [
        "modeloRFC = RandomForestClassifier(random_state=42,max_depth=10)\n",
        "modeloRFC.fit(x_trainRFC, y_trainRFC)\n",
        "y_pred = modeloRFC.predict(x_testRFC)\n",
        "modeloRFC.score(x_testRFC, y_testRFC)"
      ],
      "metadata": {
        "colab": {
          "base_uri": "https://localhost:8080/"
        },
        "id": "-iL7QaQHw3n1",
        "outputId": "5c7fb9b4-a7c3-4bb8-b521-8e61219ab104"
      },
      "execution_count": 73,
      "outputs": [
        {
          "output_type": "execute_result",
          "data": {
            "text/plain": [
              "0.8629629629629629"
            ]
          },
          "metadata": {},
          "execution_count": 73
        }
      ]
    },
    {
      "cell_type": "markdown",
      "source": [
        "###Modelo DecisionTreeClassifier"
      ],
      "metadata": {
        "id": "c3zb3bHdxUYg"
      }
    },
    {
      "cell_type": "code",
      "source": [
        "x_trainDTC, x_testDTC, y_trainDTC, y_testDTC = train_test_split(x_over, y, test_size=0.2, random_state=42,stratify=y_over)"
      ],
      "metadata": {
        "id": "kNlQCQYcxZUr"
      },
      "execution_count": 76,
      "outputs": []
    },
    {
      "cell_type": "code",
      "source": [
        "arbol=DecisionTreeClassifier(random_state=42, max_depth=5)\n",
        "arbol.fit(x_trainDTC, y_trainDTC)\n",
        "\n",
        "arbol.score(x_testDTC, y_testDTC)"
      ],
      "metadata": {
        "colab": {
          "base_uri": "https://localhost:8080/"
        },
        "id": "k-bSWbrpxcL6",
        "outputId": "9b099ad9-ee6a-4f35-9c18-0e1807f5a09c"
      },
      "execution_count": 77,
      "outputs": [
        {
          "output_type": "execute_result",
          "data": {
            "text/plain": [
              "0.7962962962962963"
            ]
          },
          "metadata": {},
          "execution_count": 77
        }
      ]
    },
    {
      "cell_type": "code",
      "source": [
        "arbol.score(x_trainDTC, y_trainDTC)"
      ],
      "metadata": {
        "colab": {
          "base_uri": "https://localhost:8080/"
        },
        "id": "7z4Uq4TVxfFt",
        "outputId": "84b873ff-d2e0-48fe-f93c-62e16eb8391f"
      },
      "execution_count": 78,
      "outputs": [
        {
          "output_type": "execute_result",
          "data": {
            "text/plain": [
              "0.8156553960166744"
            ]
          },
          "metadata": {},
          "execution_count": 78
        }
      ]
    },
    {
      "cell_type": "markdown",
      "source": [
        "##Evaluacion de los Modelos"
      ],
      "metadata": {
        "id": "z3SQc7g_wo9l"
      }
    },
    {
      "cell_type": "code",
      "source": [
        "y_pred_dummy = baseline.predict(x_testDummy)\n",
        "\n",
        "print(\"\\n---- Rendimiento en TEST de Dummy ----\")\n",
        "print(f\"Accuracy: {accuracy_score(y_testDummy, y_pred_dummy):.4f}\")\n",
        "print(classification_report(y_testDummy, y_pred_dummy))\n",
        "print(\"Matriz de confusión:\\n\", confusion_matrix(y_testDummy, y_pred_dummy))\n",
        "\n",
        "y_pred_train = baseline.predict(x_trainDummy)\n",
        "print(\"\\n---- Rendimiento en TRAIN ----\")\n",
        "print(f\"Accuracy: {accuracy_score(y_trainDummy, y_pred_train):.4f}\")\n",
        "ConfusionMatrixDisplay.from_predictions(y_testDummy,y_pred_dummy)"
      ],
      "metadata": {
        "colab": {
          "base_uri": "https://localhost:8080/",
          "height": 903
        },
        "id": "O0CIlZVJwfkF",
        "outputId": "ee796786-3ea9-45d4-a284-a46889170685"
      },
      "execution_count": 79,
      "outputs": [
        {
          "output_type": "stream",
          "name": "stdout",
          "text": [
            "\n",
            "---- Rendimiento en TEST de Dummy ----\n",
            "Accuracy: 0.5000\n",
            "              precision    recall  f1-score   support\n",
            "\n",
            "           0       0.50      1.00      0.67      1080\n",
            "           1       0.00      0.00      0.00      1080\n",
            "\n",
            "    accuracy                           0.50      2160\n",
            "   macro avg       0.25      0.50      0.33      2160\n",
            "weighted avg       0.25      0.50      0.33      2160\n",
            "\n",
            "Matriz de confusión:\n",
            " [[1080    0]\n",
            " [1080    0]]\n",
            "\n",
            "---- Rendimiento en TRAIN ----\n",
            "Accuracy: 0.5000\n"
          ]
        },
        {
          "output_type": "stream",
          "name": "stderr",
          "text": [
            "/usr/local/lib/python3.11/dist-packages/sklearn/metrics/_classification.py:1565: UndefinedMetricWarning: Precision is ill-defined and being set to 0.0 in labels with no predicted samples. Use `zero_division` parameter to control this behavior.\n",
            "  _warn_prf(average, modifier, f\"{metric.capitalize()} is\", len(result))\n",
            "/usr/local/lib/python3.11/dist-packages/sklearn/metrics/_classification.py:1565: UndefinedMetricWarning: Precision is ill-defined and being set to 0.0 in labels with no predicted samples. Use `zero_division` parameter to control this behavior.\n",
            "  _warn_prf(average, modifier, f\"{metric.capitalize()} is\", len(result))\n",
            "/usr/local/lib/python3.11/dist-packages/sklearn/metrics/_classification.py:1565: UndefinedMetricWarning: Precision is ill-defined and being set to 0.0 in labels with no predicted samples. Use `zero_division` parameter to control this behavior.\n",
            "  _warn_prf(average, modifier, f\"{metric.capitalize()} is\", len(result))\n"
          ]
        },
        {
          "output_type": "execute_result",
          "data": {
            "text/plain": [
              "<sklearn.metrics._plot.confusion_matrix.ConfusionMatrixDisplay at 0x79ed2fe153d0>"
            ]
          },
          "metadata": {},
          "execution_count": 79
        },
        {
          "output_type": "display_data",
          "data": {
            "text/plain": [
              "<Figure size 640x480 with 2 Axes>"
            ],
            "image/png": "[encoded data removed]"
          },
          "metadata": {}
        }
      ]
    },
    {
      "cell_type": "code",
      "source": [
        "y_pred = modeloRFC.predict(x_testRFC)\n",
        "\n",
        "print(\"\\n---- Rendimiento en TEST de Random Forest Classifier ----\")\n",
        "print(f\"Accuracy: {accuracy_score(y_testRFC, y_pred):.4f}\")\n",
        "print(classification_report(y_testRFC, y_pred))\n",
        "print(\"Matriz de confusión:\\n\", confusion_matrix(y_testRFC, y_pred))\n",
        "\n",
        "# Métricas en TRAIN (para diagnosticar overfitting)\n",
        "y_pred_train = modeloRFC.predict(x_trainRFC)\n",
        "print(\"\\n---- Rendimiento en TRAIN ----\")\n",
        "print(f\"Accuracy: {accuracy_score(y_trainRFC, y_pred_train):.4f}\")\n",
        "\n",
        "ConfusionMatrixDisplay.from_predictions(y_testRFC,y_pred)"
      ],
      "metadata": {
        "colab": {
          "base_uri": "https://localhost:8080/",
          "height": 779
        },
        "id": "2dKTh-5sxt49",
        "outputId": "e14bde6f-7687-49cb-8fdd-211cd8176021"
      },
      "execution_count": 81,
      "outputs": [
        {
          "output_type": "stream",
          "name": "stdout",
          "text": [
            "\n",
            "---- Rendimiento en TEST de Random Forest Classifier ----\n",
            "Accuracy: 0.8630\n",
            "              precision    recall  f1-score   support\n",
            "\n",
            "           0       0.88      0.84      0.86      1080\n",
            "           1       0.85      0.88      0.87      1080\n",
            "\n",
            "    accuracy                           0.86      2160\n",
            "   macro avg       0.86      0.86      0.86      2160\n",
            "weighted avg       0.86      0.86      0.86      2160\n",
            "\n",
            "Matriz de confusión:\n",
            " [[912 168]\n",
            " [128 952]]\n",
            "\n",
            "---- Rendimiento en TRAIN ----\n",
            "Accuracy: 0.8983\n"
          ]
        },
        {
          "output_type": "execute_result",
          "data": {
            "text/plain": [
              "<sklearn.metrics._plot.confusion_matrix.ConfusionMatrixDisplay at 0x79ed2b77d910>"
            ]
          },
          "metadata": {},
          "execution_count": 81
        },
        {
          "output_type": "display_data",
          "data": {
            "text/plain": [
              "<Figure size 640x480 with 2 Axes>"
            ],
            "image/png": "[encoded data removed]"
          },
          "metadata": {}
        }
      ]
    },
    {
      "cell_type": "code",
      "source": [
        "y_pred_arbol = arbol.predict(x_testDTC)\n",
        "\n",
        "print(\"\\n---- Rendimiento en TEST de Decision Tree Classifier ----\")\n",
        "print(f\"Accuracy: {accuracy_score(y_testDTC, y_pred_arbol):.4f}\")\n",
        "print(classification_report(y_testDTC, y_pred_arbol))\n",
        "print(\"Matriz de confusión:\\n\", confusion_matrix(y_testDTC, y_pred_arbol))\n",
        "\n",
        "y_pred_train = arbol.predict(x_trainDTC)\n",
        "print(\"\\n---- Rendimiento en TRAIN ----\")\n",
        "print(f\"Accuracy: {accuracy_score(y_trainDTC, y_pred_train):.4f}\")\n",
        "ConfusionMatrixDisplay.from_predictions(y_testDTC,y_pred_arbol)"
      ],
      "metadata": {
        "colab": {
          "base_uri": "https://localhost:8080/",
          "height": 785
        },
        "id": "bAoq3PfixnI1",
        "outputId": "f3cd24ff-3fce-4307-822b-fbcf39a7ede4"
      },
      "execution_count": 80,
      "outputs": [
        {
          "output_type": "stream",
          "name": "stdout",
          "text": [
            "\n",
            "---- Rendimiento en TEST de Decision Tree Classifier ----\n",
            "Accuracy: 0.7963\n",
            "              precision    recall  f1-score   support\n",
            "\n",
            "           0       0.78      0.83      0.80      1080\n",
            "           1       0.82      0.76      0.79      1080\n",
            "\n",
            "    accuracy                           0.80      2160\n",
            "   macro avg       0.80      0.80      0.80      2160\n",
            "weighted avg       0.80      0.80      0.80      2160\n",
            "\n",
            "Matriz de confusión:\n",
            " [[900 180]\n",
            " [260 820]]\n",
            "\n",
            "---- Rendimiento en TRAIN ----\n",
            "Accuracy: 0.8157\n"
          ]
        },
        {
          "output_type": "execute_result",
          "data": {
            "text/plain": [
              "<sklearn.metrics._plot.confusion_matrix.ConfusionMatrixDisplay at 0x79ed2b74da10>"
            ]
          },
          "metadata": {},
          "execution_count": 80
        },
        {
          "output_type": "display_data",
          "data": {
            "text/plain": [
              "<Figure size 640x480 with 2 Axes>"
            ],
            "image/png": "[encoded data removed]"
          },
          "metadata": {}
        }
      ]
    },
    {
      "cell_type": "markdown",
      "source": [
        "Después, realiza un análisis crítico y compara los modelos:\n",
        "\n",
        "**¿Cuál modelo tuvo el mejor desempeño?**\n",
        "*   Fue el Modelo Random Forest Classifier con un Accuracy de 0.8983\n",
        "\n",
        "***¿Algún modelo presentó overfitting o underfitting? ***\n",
        "*   Fue el Dummy Classifier, tuvo Underfitting\n"
      ],
      "metadata": {
        "id": "qUoyNzZQyJV3"
      }
    },
    {
      "cell_type": "markdown",
      "source": [
        "#📋 Interpretación y Conclusiones"
      ],
      "metadata": {
        "id": "j8niTCufwufd"
      }
    },
    {
      "cell_type": "markdown",
      "source": [
        "##Analisis de la importancia de las variables"
      ],
      "metadata": {
        "id": "MIO0fC6bwyEH"
      }
    },
    {
      "cell_type": "markdown",
      "source": [
        "Con la evaluacion de tres modelos seleccionados : Dummy, Random Forest y el Decision Tree\n",
        "\n",
        "Las siguientes variables mostraron ser altamente significativas.\n",
        "*   Contract_Month-to-month\n",
        "*   tenure\n",
        "*   Contract_Two year\n",
        "*   InternetService_Fiber optic\n",
        "*   PaymentMethod_Electronic check\n"
      ],
      "metadata": {
        "id": "xWcYq6TWzLOs"
      }
    },
    {
      "cell_type": "markdown",
      "source": [
        "Por ejemplo, los clientes con contratos mes a mes o con internet de fibra óptica tienen una mayor tendencia a cancelar el servicio, mientras que aquellos con mayor antigüedad (tenure) o con contratos a largo plazo tienden a mantenerse.\n",
        "\n",
        "El modelo Dummy, como línea base, confirmó que el problema de churn no puede resolverse con predicciones aleatorias, ya que no considera ninguna variable y se quedó en una accuracy del 50%. Esto refuerza la necesidad de modelos más complejos que realmente aprendan de los datos.\n",
        "\n",
        "En el caso del Decision Tree, el análisis de las divisiones muestra que las variables mencionadas fueron utilizadas en los nodos superiores del árbol, indicando su alta capacidad para discriminar entre clientes que cancelan y los que no.\n",
        "\n",
        "A su vez, el Random Forest, que se basa en múltiples árboles de decisión y calcula la importancia de cada variable según la reducción de impureza (índice de Gini), validó aún más esta selección. Variables como tenure, Contract_Month-to-month y InternetService_Fiber optic fueron consistentemente las más importantes para el modelo, lo que concuerda con el análisis de correlación inicial.\n",
        "\n",
        "En conjunto, tanto el análisis estadístico como los modelos predictivos confirman que estas variables elegidas no solo son estadísticamente relevantes, sino también decisivas para el desempeño del modelo. Esto demuestra que la selección de variables fue adecuada y está alineada tanto con la teoría como con el aprendizaje de los modelos."
      ],
      "metadata": {
        "id": "t8eIVVuPzwUo"
      }
    },
    {
      "cell_type": "markdown",
      "source": [
        "##Conclusion"
      ],
      "metadata": {
        "id": "aR6p9ZmUw1Bq"
      }
    },
    {
      "cell_type": "markdown",
      "source": [
        "El modelo de Random Forest fue el más eficaz para predecir el churn, alcanzando una precisión de 89.83% en el conjunto de prueba, y mostrando un equilibrio sólido entre la capacidad de aprendizaje y la generalización.\n",
        "\n",
        "Importancia de las Variables según los Modelos Los modelos más avanzados (árbol de decisión y Random Forest) permiten medir la importancia relativa de cada variable. Este análisis, en conjunto con la correlación estadística observada en la fase exploratoria, confirma la relevancia de ciertas características:\n",
        "\n",
        "*   tenure (tiempo de contrato): Es la variable con mayor peso. Los clientes con menor antigüedad son significativamente más propensos a cancelar.\n",
        "\n",
        "*   Contract_Month-to-month: Este tipo de contrato está altamente asociado al churn. Los contratos mensuales facilitan la salida del cliente.\n",
        "\n",
        "*   Contract_Two year: Su relación negativa con el churn sugiere que los contratos a largo plazo generan retención efectiva.\n",
        "\n",
        "*   InternetService_Fiber optic: Este tipo de servicio se asocia con una mayor cancelación, posiblemente por problemas técnicos o costo elevado.\n",
        "\n",
        "*   PaymentMethod_Electronic check: Este método de pago es un fuerte predictor de churn, tal vez por dificultades en el proceso o menor compromiso financiero.\n",
        "\n",
        "*   OnlineSecurity, TechSupport, Dependents, Partner: Variables asociadas con mayor estabilidad, que cuando están presentes, tienden a reducir el riesgo de cancelación.\n",
        "\n",
        "Estas variables no solo fueron identificadas como estadísticamente significativas en el análisis exploratorio, sino que también fueron seleccionadas por los modelos predictivos como factores críticos en las decisiones de clasificación."
      ],
      "metadata": {
        "id": "q7sHI04Iz6IF"
      }
    },
    {
      "cell_type": "markdown",
      "source": [
        "A un futuro aplicare otros analisis como el KNN (K-Nearest Neighbors)"
      ],
      "metadata": {
        "id": "DBW2ib_H0xOW"
      }
    }
  ]
}